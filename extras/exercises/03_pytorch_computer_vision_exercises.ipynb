{
  "nbformat": 4,
  "nbformat_minor": 0,
  "metadata": {
    "colab": {
      "name": "03_pytorch_computer_vision_exercises.ipynb",
      "provenance": [],
      "include_colab_link": true
    },
    "kernelspec": {
      "name": "python3",
      "display_name": "Python 3"
    },
    "language_info": {
      "name": "python"
    },
    "accelerator": "GPU",
    "widgets": {
      "application/vnd.jupyter.widget-state+json": {
        "68371fbbc8b44fcd92ac53edf15bd112": {
          "model_module": "@jupyter-widgets/controls",
          "model_name": "HBoxModel",
          "model_module_version": "1.5.0",
          "state": {
            "_dom_classes": [],
            "_model_module": "@jupyter-widgets/controls",
            "_model_module_version": "1.5.0",
            "_model_name": "HBoxModel",
            "_view_count": null,
            "_view_module": "@jupyter-widgets/controls",
            "_view_module_version": "1.5.0",
            "_view_name": "HBoxView",
            "box_style": "",
            "children": [
              "IPY_MODEL_2cbfb474a1b44f408874e290d9daef1e",
              "IPY_MODEL_846b300a71624959962e13e3c72c59c3",
              "IPY_MODEL_6e57717beee44a31899d0044851009b7"
            ],
            "layout": "IPY_MODEL_5c0691c80c734a1a82c289afadc692f2"
          }
        },
        "2cbfb474a1b44f408874e290d9daef1e": {
          "model_module": "@jupyter-widgets/controls",
          "model_name": "HTMLModel",
          "model_module_version": "1.5.0",
          "state": {
            "_dom_classes": [],
            "_model_module": "@jupyter-widgets/controls",
            "_model_module_version": "1.5.0",
            "_model_name": "HTMLModel",
            "_view_count": null,
            "_view_module": "@jupyter-widgets/controls",
            "_view_module_version": "1.5.0",
            "_view_name": "HTMLView",
            "description": "",
            "description_tooltip": null,
            "layout": "IPY_MODEL_fa69fc6f080c4a51a7092543d2f02454",
            "placeholder": "​",
            "style": "IPY_MODEL_42acf738a91742209659c28c863baba7",
            "value": "100%"
          }
        },
        "846b300a71624959962e13e3c72c59c3": {
          "model_module": "@jupyter-widgets/controls",
          "model_name": "FloatProgressModel",
          "model_module_version": "1.5.0",
          "state": {
            "_dom_classes": [],
            "_model_module": "@jupyter-widgets/controls",
            "_model_module_version": "1.5.0",
            "_model_name": "FloatProgressModel",
            "_view_count": null,
            "_view_module": "@jupyter-widgets/controls",
            "_view_module_version": "1.5.0",
            "_view_name": "ProgressView",
            "bar_style": "success",
            "description": "",
            "description_tooltip": null,
            "layout": "IPY_MODEL_1c08f16dee1247559f654177eb725549",
            "max": 5,
            "min": 0,
            "orientation": "horizontal",
            "style": "IPY_MODEL_ca5cdb7d065f4091b6f71a736055a145",
            "value": 5
          }
        },
        "6e57717beee44a31899d0044851009b7": {
          "model_module": "@jupyter-widgets/controls",
          "model_name": "HTMLModel",
          "model_module_version": "1.5.0",
          "state": {
            "_dom_classes": [],
            "_model_module": "@jupyter-widgets/controls",
            "_model_module_version": "1.5.0",
            "_model_name": "HTMLModel",
            "_view_count": null,
            "_view_module": "@jupyter-widgets/controls",
            "_view_module_version": "1.5.0",
            "_view_name": "HTMLView",
            "description": "",
            "description_tooltip": null,
            "layout": "IPY_MODEL_aade080f886e49c7b55a079a1eb64c1b",
            "placeholder": "​",
            "style": "IPY_MODEL_8a2632d439d847e0a41ae1168c54dcb1",
            "value": " 5/5 [01:05&lt;00:00, 12.85s/it]"
          }
        },
        "5c0691c80c734a1a82c289afadc692f2": {
          "model_module": "@jupyter-widgets/base",
          "model_name": "LayoutModel",
          "model_module_version": "1.2.0",
          "state": {
            "_model_module": "@jupyter-widgets/base",
            "_model_module_version": "1.2.0",
            "_model_name": "LayoutModel",
            "_view_count": null,
            "_view_module": "@jupyter-widgets/base",
            "_view_module_version": "1.2.0",
            "_view_name": "LayoutView",
            "align_content": null,
            "align_items": null,
            "align_self": null,
            "border": null,
            "bottom": null,
            "display": null,
            "flex": null,
            "flex_flow": null,
            "grid_area": null,
            "grid_auto_columns": null,
            "grid_auto_flow": null,
            "grid_auto_rows": null,
            "grid_column": null,
            "grid_gap": null,
            "grid_row": null,
            "grid_template_areas": null,
            "grid_template_columns": null,
            "grid_template_rows": null,
            "height": null,
            "justify_content": null,
            "justify_items": null,
            "left": null,
            "margin": null,
            "max_height": null,
            "max_width": null,
            "min_height": null,
            "min_width": null,
            "object_fit": null,
            "object_position": null,
            "order": null,
            "overflow": null,
            "overflow_x": null,
            "overflow_y": null,
            "padding": null,
            "right": null,
            "top": null,
            "visibility": null,
            "width": null
          }
        },
        "fa69fc6f080c4a51a7092543d2f02454": {
          "model_module": "@jupyter-widgets/base",
          "model_name": "LayoutModel",
          "model_module_version": "1.2.0",
          "state": {
            "_model_module": "@jupyter-widgets/base",
            "_model_module_version": "1.2.0",
            "_model_name": "LayoutModel",
            "_view_count": null,
            "_view_module": "@jupyter-widgets/base",
            "_view_module_version": "1.2.0",
            "_view_name": "LayoutView",
            "align_content": null,
            "align_items": null,
            "align_self": null,
            "border": null,
            "bottom": null,
            "display": null,
            "flex": null,
            "flex_flow": null,
            "grid_area": null,
            "grid_auto_columns": null,
            "grid_auto_flow": null,
            "grid_auto_rows": null,
            "grid_column": null,
            "grid_gap": null,
            "grid_row": null,
            "grid_template_areas": null,
            "grid_template_columns": null,
            "grid_template_rows": null,
            "height": null,
            "justify_content": null,
            "justify_items": null,
            "left": null,
            "margin": null,
            "max_height": null,
            "max_width": null,
            "min_height": null,
            "min_width": null,
            "object_fit": null,
            "object_position": null,
            "order": null,
            "overflow": null,
            "overflow_x": null,
            "overflow_y": null,
            "padding": null,
            "right": null,
            "top": null,
            "visibility": null,
            "width": null
          }
        },
        "42acf738a91742209659c28c863baba7": {
          "model_module": "@jupyter-widgets/controls",
          "model_name": "DescriptionStyleModel",
          "model_module_version": "1.5.0",
          "state": {
            "_model_module": "@jupyter-widgets/controls",
            "_model_module_version": "1.5.0",
            "_model_name": "DescriptionStyleModel",
            "_view_count": null,
            "_view_module": "@jupyter-widgets/base",
            "_view_module_version": "1.2.0",
            "_view_name": "StyleView",
            "description_width": ""
          }
        },
        "1c08f16dee1247559f654177eb725549": {
          "model_module": "@jupyter-widgets/base",
          "model_name": "LayoutModel",
          "model_module_version": "1.2.0",
          "state": {
            "_model_module": "@jupyter-widgets/base",
            "_model_module_version": "1.2.0",
            "_model_name": "LayoutModel",
            "_view_count": null,
            "_view_module": "@jupyter-widgets/base",
            "_view_module_version": "1.2.0",
            "_view_name": "LayoutView",
            "align_content": null,
            "align_items": null,
            "align_self": null,
            "border": null,
            "bottom": null,
            "display": null,
            "flex": null,
            "flex_flow": null,
            "grid_area": null,
            "grid_auto_columns": null,
            "grid_auto_flow": null,
            "grid_auto_rows": null,
            "grid_column": null,
            "grid_gap": null,
            "grid_row": null,
            "grid_template_areas": null,
            "grid_template_columns": null,
            "grid_template_rows": null,
            "height": null,
            "justify_content": null,
            "justify_items": null,
            "left": null,
            "margin": null,
            "max_height": null,
            "max_width": null,
            "min_height": null,
            "min_width": null,
            "object_fit": null,
            "object_position": null,
            "order": null,
            "overflow": null,
            "overflow_x": null,
            "overflow_y": null,
            "padding": null,
            "right": null,
            "top": null,
            "visibility": null,
            "width": null
          }
        },
        "ca5cdb7d065f4091b6f71a736055a145": {
          "model_module": "@jupyter-widgets/controls",
          "model_name": "ProgressStyleModel",
          "model_module_version": "1.5.0",
          "state": {
            "_model_module": "@jupyter-widgets/controls",
            "_model_module_version": "1.5.0",
            "_model_name": "ProgressStyleModel",
            "_view_count": null,
            "_view_module": "@jupyter-widgets/base",
            "_view_module_version": "1.2.0",
            "_view_name": "StyleView",
            "bar_color": null,
            "description_width": ""
          }
        },
        "aade080f886e49c7b55a079a1eb64c1b": {
          "model_module": "@jupyter-widgets/base",
          "model_name": "LayoutModel",
          "model_module_version": "1.2.0",
          "state": {
            "_model_module": "@jupyter-widgets/base",
            "_model_module_version": "1.2.0",
            "_model_name": "LayoutModel",
            "_view_count": null,
            "_view_module": "@jupyter-widgets/base",
            "_view_module_version": "1.2.0",
            "_view_name": "LayoutView",
            "align_content": null,
            "align_items": null,
            "align_self": null,
            "border": null,
            "bottom": null,
            "display": null,
            "flex": null,
            "flex_flow": null,
            "grid_area": null,
            "grid_auto_columns": null,
            "grid_auto_flow": null,
            "grid_auto_rows": null,
            "grid_column": null,
            "grid_gap": null,
            "grid_row": null,
            "grid_template_areas": null,
            "grid_template_columns": null,
            "grid_template_rows": null,
            "height": null,
            "justify_content": null,
            "justify_items": null,
            "left": null,
            "margin": null,
            "max_height": null,
            "max_width": null,
            "min_height": null,
            "min_width": null,
            "object_fit": null,
            "object_position": null,
            "order": null,
            "overflow": null,
            "overflow_x": null,
            "overflow_y": null,
            "padding": null,
            "right": null,
            "top": null,
            "visibility": null,
            "width": null
          }
        },
        "8a2632d439d847e0a41ae1168c54dcb1": {
          "model_module": "@jupyter-widgets/controls",
          "model_name": "DescriptionStyleModel",
          "model_module_version": "1.5.0",
          "state": {
            "_model_module": "@jupyter-widgets/controls",
            "_model_module_version": "1.5.0",
            "_model_name": "DescriptionStyleModel",
            "_view_count": null,
            "_view_module": "@jupyter-widgets/base",
            "_view_module_version": "1.2.0",
            "_view_name": "StyleView",
            "description_width": ""
          }
        },
        "2901f103650e4a2180714205d0780654": {
          "model_module": "@jupyter-widgets/controls",
          "model_name": "HBoxModel",
          "model_module_version": "1.5.0",
          "state": {
            "_dom_classes": [],
            "_model_module": "@jupyter-widgets/controls",
            "_model_module_version": "1.5.0",
            "_model_name": "HBoxModel",
            "_view_count": null,
            "_view_module": "@jupyter-widgets/controls",
            "_view_module_version": "1.5.0",
            "_view_name": "HBoxView",
            "box_style": "",
            "children": [
              "IPY_MODEL_db004572cefd4ce5bf851e32c03f4d83",
              "IPY_MODEL_dd1a0472425a47f6a46091d4be472c57",
              "IPY_MODEL_5fb5e6b689ba4e7da3800244f09c9110"
            ],
            "layout": "IPY_MODEL_253f4696cb464dedba9186296780584d"
          }
        },
        "db004572cefd4ce5bf851e32c03f4d83": {
          "model_module": "@jupyter-widgets/controls",
          "model_name": "HTMLModel",
          "model_module_version": "1.5.0",
          "state": {
            "_dom_classes": [],
            "_model_module": "@jupyter-widgets/controls",
            "_model_module_version": "1.5.0",
            "_model_name": "HTMLModel",
            "_view_count": null,
            "_view_module": "@jupyter-widgets/controls",
            "_view_module_version": "1.5.0",
            "_view_name": "HTMLView",
            "description": "",
            "description_tooltip": null,
            "layout": "IPY_MODEL_12e5cde58a844db7a9ab6d7e40bbfa25",
            "placeholder": "​",
            "style": "IPY_MODEL_0ce0b15a26724e5b883b6d7a33c37acd",
            "value": "100%"
          }
        },
        "dd1a0472425a47f6a46091d4be472c57": {
          "model_module": "@jupyter-widgets/controls",
          "model_name": "FloatProgressModel",
          "model_module_version": "1.5.0",
          "state": {
            "_dom_classes": [],
            "_model_module": "@jupyter-widgets/controls",
            "_model_module_version": "1.5.0",
            "_model_name": "FloatProgressModel",
            "_view_count": null,
            "_view_module": "@jupyter-widgets/controls",
            "_view_module_version": "1.5.0",
            "_view_name": "ProgressView",
            "bar_style": "success",
            "description": "",
            "description_tooltip": null,
            "layout": "IPY_MODEL_6c3c1453a5a2449fbee1fa1f3c60d124",
            "max": 5,
            "min": 0,
            "orientation": "horizontal",
            "style": "IPY_MODEL_139272587b024a778dc909129773bc94",
            "value": 5
          }
        },
        "5fb5e6b689ba4e7da3800244f09c9110": {
          "model_module": "@jupyter-widgets/controls",
          "model_name": "HTMLModel",
          "model_module_version": "1.5.0",
          "state": {
            "_dom_classes": [],
            "_model_module": "@jupyter-widgets/controls",
            "_model_module_version": "1.5.0",
            "_model_name": "HTMLModel",
            "_view_count": null,
            "_view_module": "@jupyter-widgets/controls",
            "_view_module_version": "1.5.0",
            "_view_name": "HTMLView",
            "description": "",
            "description_tooltip": null,
            "layout": "IPY_MODEL_0856d457fca647a0935dcea6cd14eaf2",
            "placeholder": "​",
            "style": "IPY_MODEL_9ce0006d16e945e39d9bb9f4614923c2",
            "value": " 5/5 [03:55&lt;00:00, 47.03s/it]"
          }
        },
        "253f4696cb464dedba9186296780584d": {
          "model_module": "@jupyter-widgets/base",
          "model_name": "LayoutModel",
          "model_module_version": "1.2.0",
          "state": {
            "_model_module": "@jupyter-widgets/base",
            "_model_module_version": "1.2.0",
            "_model_name": "LayoutModel",
            "_view_count": null,
            "_view_module": "@jupyter-widgets/base",
            "_view_module_version": "1.2.0",
            "_view_name": "LayoutView",
            "align_content": null,
            "align_items": null,
            "align_self": null,
            "border": null,
            "bottom": null,
            "display": null,
            "flex": null,
            "flex_flow": null,
            "grid_area": null,
            "grid_auto_columns": null,
            "grid_auto_flow": null,
            "grid_auto_rows": null,
            "grid_column": null,
            "grid_gap": null,
            "grid_row": null,
            "grid_template_areas": null,
            "grid_template_columns": null,
            "grid_template_rows": null,
            "height": null,
            "justify_content": null,
            "justify_items": null,
            "left": null,
            "margin": null,
            "max_height": null,
            "max_width": null,
            "min_height": null,
            "min_width": null,
            "object_fit": null,
            "object_position": null,
            "order": null,
            "overflow": null,
            "overflow_x": null,
            "overflow_y": null,
            "padding": null,
            "right": null,
            "top": null,
            "visibility": null,
            "width": null
          }
        },
        "12e5cde58a844db7a9ab6d7e40bbfa25": {
          "model_module": "@jupyter-widgets/base",
          "model_name": "LayoutModel",
          "model_module_version": "1.2.0",
          "state": {
            "_model_module": "@jupyter-widgets/base",
            "_model_module_version": "1.2.0",
            "_model_name": "LayoutModel",
            "_view_count": null,
            "_view_module": "@jupyter-widgets/base",
            "_view_module_version": "1.2.0",
            "_view_name": "LayoutView",
            "align_content": null,
            "align_items": null,
            "align_self": null,
            "border": null,
            "bottom": null,
            "display": null,
            "flex": null,
            "flex_flow": null,
            "grid_area": null,
            "grid_auto_columns": null,
            "grid_auto_flow": null,
            "grid_auto_rows": null,
            "grid_column": null,
            "grid_gap": null,
            "grid_row": null,
            "grid_template_areas": null,
            "grid_template_columns": null,
            "grid_template_rows": null,
            "height": null,
            "justify_content": null,
            "justify_items": null,
            "left": null,
            "margin": null,
            "max_height": null,
            "max_width": null,
            "min_height": null,
            "min_width": null,
            "object_fit": null,
            "object_position": null,
            "order": null,
            "overflow": null,
            "overflow_x": null,
            "overflow_y": null,
            "padding": null,
            "right": null,
            "top": null,
            "visibility": null,
            "width": null
          }
        },
        "0ce0b15a26724e5b883b6d7a33c37acd": {
          "model_module": "@jupyter-widgets/controls",
          "model_name": "DescriptionStyleModel",
          "model_module_version": "1.5.0",
          "state": {
            "_model_module": "@jupyter-widgets/controls",
            "_model_module_version": "1.5.0",
            "_model_name": "DescriptionStyleModel",
            "_view_count": null,
            "_view_module": "@jupyter-widgets/base",
            "_view_module_version": "1.2.0",
            "_view_name": "StyleView",
            "description_width": ""
          }
        },
        "6c3c1453a5a2449fbee1fa1f3c60d124": {
          "model_module": "@jupyter-widgets/base",
          "model_name": "LayoutModel",
          "model_module_version": "1.2.0",
          "state": {
            "_model_module": "@jupyter-widgets/base",
            "_model_module_version": "1.2.0",
            "_model_name": "LayoutModel",
            "_view_count": null,
            "_view_module": "@jupyter-widgets/base",
            "_view_module_version": "1.2.0",
            "_view_name": "LayoutView",
            "align_content": null,
            "align_items": null,
            "align_self": null,
            "border": null,
            "bottom": null,
            "display": null,
            "flex": null,
            "flex_flow": null,
            "grid_area": null,
            "grid_auto_columns": null,
            "grid_auto_flow": null,
            "grid_auto_rows": null,
            "grid_column": null,
            "grid_gap": null,
            "grid_row": null,
            "grid_template_areas": null,
            "grid_template_columns": null,
            "grid_template_rows": null,
            "height": null,
            "justify_content": null,
            "justify_items": null,
            "left": null,
            "margin": null,
            "max_height": null,
            "max_width": null,
            "min_height": null,
            "min_width": null,
            "object_fit": null,
            "object_position": null,
            "order": null,
            "overflow": null,
            "overflow_x": null,
            "overflow_y": null,
            "padding": null,
            "right": null,
            "top": null,
            "visibility": null,
            "width": null
          }
        },
        "139272587b024a778dc909129773bc94": {
          "model_module": "@jupyter-widgets/controls",
          "model_name": "ProgressStyleModel",
          "model_module_version": "1.5.0",
          "state": {
            "_model_module": "@jupyter-widgets/controls",
            "_model_module_version": "1.5.0",
            "_model_name": "ProgressStyleModel",
            "_view_count": null,
            "_view_module": "@jupyter-widgets/base",
            "_view_module_version": "1.2.0",
            "_view_name": "StyleView",
            "bar_color": null,
            "description_width": ""
          }
        },
        "0856d457fca647a0935dcea6cd14eaf2": {
          "model_module": "@jupyter-widgets/base",
          "model_name": "LayoutModel",
          "model_module_version": "1.2.0",
          "state": {
            "_model_module": "@jupyter-widgets/base",
            "_model_module_version": "1.2.0",
            "_model_name": "LayoutModel",
            "_view_count": null,
            "_view_module": "@jupyter-widgets/base",
            "_view_module_version": "1.2.0",
            "_view_name": "LayoutView",
            "align_content": null,
            "align_items": null,
            "align_self": null,
            "border": null,
            "bottom": null,
            "display": null,
            "flex": null,
            "flex_flow": null,
            "grid_area": null,
            "grid_auto_columns": null,
            "grid_auto_flow": null,
            "grid_auto_rows": null,
            "grid_column": null,
            "grid_gap": null,
            "grid_row": null,
            "grid_template_areas": null,
            "grid_template_columns": null,
            "grid_template_rows": null,
            "height": null,
            "justify_content": null,
            "justify_items": null,
            "left": null,
            "margin": null,
            "max_height": null,
            "max_width": null,
            "min_height": null,
            "min_width": null,
            "object_fit": null,
            "object_position": null,
            "order": null,
            "overflow": null,
            "overflow_x": null,
            "overflow_y": null,
            "padding": null,
            "right": null,
            "top": null,
            "visibility": null,
            "width": null
          }
        },
        "9ce0006d16e945e39d9bb9f4614923c2": {
          "model_module": "@jupyter-widgets/controls",
          "model_name": "DescriptionStyleModel",
          "model_module_version": "1.5.0",
          "state": {
            "_model_module": "@jupyter-widgets/controls",
            "_model_module_version": "1.5.0",
            "_model_name": "DescriptionStyleModel",
            "_view_count": null,
            "_view_module": "@jupyter-widgets/base",
            "_view_module_version": "1.2.0",
            "_view_name": "StyleView",
            "description_width": ""
          }
        },
        "1f422250c6424eb7a3260994059ac7f4": {
          "model_module": "@jupyter-widgets/controls",
          "model_name": "HBoxModel",
          "model_module_version": "1.5.0",
          "state": {
            "_dom_classes": [],
            "_model_module": "@jupyter-widgets/controls",
            "_model_module_version": "1.5.0",
            "_model_name": "HBoxModel",
            "_view_count": null,
            "_view_module": "@jupyter-widgets/controls",
            "_view_module_version": "1.5.0",
            "_view_name": "HBoxView",
            "box_style": "",
            "children": [
              "IPY_MODEL_0b38fe890cfd4c2bb995a3c7df85e48c",
              "IPY_MODEL_3cd4bdc2f2df4372ad32162eb270f4b2",
              "IPY_MODEL_03e1f5d59129462eac725c101dbbbf06"
            ],
            "layout": "IPY_MODEL_e12d2b0af18c4f1aa792f31cf6791673"
          }
        },
        "0b38fe890cfd4c2bb995a3c7df85e48c": {
          "model_module": "@jupyter-widgets/controls",
          "model_name": "HTMLModel",
          "model_module_version": "1.5.0",
          "state": {
            "_dom_classes": [],
            "_model_module": "@jupyter-widgets/controls",
            "_model_module_version": "1.5.0",
            "_model_name": "HTMLModel",
            "_view_count": null,
            "_view_module": "@jupyter-widgets/controls",
            "_view_module_version": "1.5.0",
            "_view_name": "HTMLView",
            "description": "",
            "description_tooltip": null,
            "layout": "IPY_MODEL_270b5874b2d449c9b541db036c41cd1c",
            "placeholder": "​",
            "style": "IPY_MODEL_d6a866d9766c46cca4cb27c85837339f",
            "value": "Making predictions: 100%"
          }
        },
        "3cd4bdc2f2df4372ad32162eb270f4b2": {
          "model_module": "@jupyter-widgets/controls",
          "model_name": "FloatProgressModel",
          "model_module_version": "1.5.0",
          "state": {
            "_dom_classes": [],
            "_model_module": "@jupyter-widgets/controls",
            "_model_module_version": "1.5.0",
            "_model_name": "FloatProgressModel",
            "_view_count": null,
            "_view_module": "@jupyter-widgets/controls",
            "_view_module_version": "1.5.0",
            "_view_name": "ProgressView",
            "bar_style": "success",
            "description": "",
            "description_tooltip": null,
            "layout": "IPY_MODEL_658fdc3bbdad431cbeff8f19934f8f7d",
            "max": 313,
            "min": 0,
            "orientation": "horizontal",
            "style": "IPY_MODEL_7e40cd13964f4168b0a4372638c13c09",
            "value": 313
          }
        },
        "03e1f5d59129462eac725c101dbbbf06": {
          "model_module": "@jupyter-widgets/controls",
          "model_name": "HTMLModel",
          "model_module_version": "1.5.0",
          "state": {
            "_dom_classes": [],
            "_model_module": "@jupyter-widgets/controls",
            "_model_module_version": "1.5.0",
            "_model_name": "HTMLModel",
            "_view_count": null,
            "_view_module": "@jupyter-widgets/controls",
            "_view_module_version": "1.5.0",
            "_view_name": "HTMLView",
            "description": "",
            "description_tooltip": null,
            "layout": "IPY_MODEL_46cf0dde79d84e0ebc8a95ea76833190",
            "placeholder": "​",
            "style": "IPY_MODEL_c63fa810f2af4327ba6e7327eafe60f2",
            "value": " 313/313 [00:04&lt;00:00, 64.49it/s]"
          }
        },
        "e12d2b0af18c4f1aa792f31cf6791673": {
          "model_module": "@jupyter-widgets/base",
          "model_name": "LayoutModel",
          "model_module_version": "1.2.0",
          "state": {
            "_model_module": "@jupyter-widgets/base",
            "_model_module_version": "1.2.0",
            "_model_name": "LayoutModel",
            "_view_count": null,
            "_view_module": "@jupyter-widgets/base",
            "_view_module_version": "1.2.0",
            "_view_name": "LayoutView",
            "align_content": null,
            "align_items": null,
            "align_self": null,
            "border": null,
            "bottom": null,
            "display": null,
            "flex": null,
            "flex_flow": null,
            "grid_area": null,
            "grid_auto_columns": null,
            "grid_auto_flow": null,
            "grid_auto_rows": null,
            "grid_column": null,
            "grid_gap": null,
            "grid_row": null,
            "grid_template_areas": null,
            "grid_template_columns": null,
            "grid_template_rows": null,
            "height": null,
            "justify_content": null,
            "justify_items": null,
            "left": null,
            "margin": null,
            "max_height": null,
            "max_width": null,
            "min_height": null,
            "min_width": null,
            "object_fit": null,
            "object_position": null,
            "order": null,
            "overflow": null,
            "overflow_x": null,
            "overflow_y": null,
            "padding": null,
            "right": null,
            "top": null,
            "visibility": null,
            "width": null
          }
        },
        "270b5874b2d449c9b541db036c41cd1c": {
          "model_module": "@jupyter-widgets/base",
          "model_name": "LayoutModel",
          "model_module_version": "1.2.0",
          "state": {
            "_model_module": "@jupyter-widgets/base",
            "_model_module_version": "1.2.0",
            "_model_name": "LayoutModel",
            "_view_count": null,
            "_view_module": "@jupyter-widgets/base",
            "_view_module_version": "1.2.0",
            "_view_name": "LayoutView",
            "align_content": null,
            "align_items": null,
            "align_self": null,
            "border": null,
            "bottom": null,
            "display": null,
            "flex": null,
            "flex_flow": null,
            "grid_area": null,
            "grid_auto_columns": null,
            "grid_auto_flow": null,
            "grid_auto_rows": null,
            "grid_column": null,
            "grid_gap": null,
            "grid_row": null,
            "grid_template_areas": null,
            "grid_template_columns": null,
            "grid_template_rows": null,
            "height": null,
            "justify_content": null,
            "justify_items": null,
            "left": null,
            "margin": null,
            "max_height": null,
            "max_width": null,
            "min_height": null,
            "min_width": null,
            "object_fit": null,
            "object_position": null,
            "order": null,
            "overflow": null,
            "overflow_x": null,
            "overflow_y": null,
            "padding": null,
            "right": null,
            "top": null,
            "visibility": null,
            "width": null
          }
        },
        "d6a866d9766c46cca4cb27c85837339f": {
          "model_module": "@jupyter-widgets/controls",
          "model_name": "DescriptionStyleModel",
          "model_module_version": "1.5.0",
          "state": {
            "_model_module": "@jupyter-widgets/controls",
            "_model_module_version": "1.5.0",
            "_model_name": "DescriptionStyleModel",
            "_view_count": null,
            "_view_module": "@jupyter-widgets/base",
            "_view_module_version": "1.2.0",
            "_view_name": "StyleView",
            "description_width": ""
          }
        },
        "658fdc3bbdad431cbeff8f19934f8f7d": {
          "model_module": "@jupyter-widgets/base",
          "model_name": "LayoutModel",
          "model_module_version": "1.2.0",
          "state": {
            "_model_module": "@jupyter-widgets/base",
            "_model_module_version": "1.2.0",
            "_model_name": "LayoutModel",
            "_view_count": null,
            "_view_module": "@jupyter-widgets/base",
            "_view_module_version": "1.2.0",
            "_view_name": "LayoutView",
            "align_content": null,
            "align_items": null,
            "align_self": null,
            "border": null,
            "bottom": null,
            "display": null,
            "flex": null,
            "flex_flow": null,
            "grid_area": null,
            "grid_auto_columns": null,
            "grid_auto_flow": null,
            "grid_auto_rows": null,
            "grid_column": null,
            "grid_gap": null,
            "grid_row": null,
            "grid_template_areas": null,
            "grid_template_columns": null,
            "grid_template_rows": null,
            "height": null,
            "justify_content": null,
            "justify_items": null,
            "left": null,
            "margin": null,
            "max_height": null,
            "max_width": null,
            "min_height": null,
            "min_width": null,
            "object_fit": null,
            "object_position": null,
            "order": null,
            "overflow": null,
            "overflow_x": null,
            "overflow_y": null,
            "padding": null,
            "right": null,
            "top": null,
            "visibility": null,
            "width": null
          }
        },
        "7e40cd13964f4168b0a4372638c13c09": {
          "model_module": "@jupyter-widgets/controls",
          "model_name": "ProgressStyleModel",
          "model_module_version": "1.5.0",
          "state": {
            "_model_module": "@jupyter-widgets/controls",
            "_model_module_version": "1.5.0",
            "_model_name": "ProgressStyleModel",
            "_view_count": null,
            "_view_module": "@jupyter-widgets/base",
            "_view_module_version": "1.2.0",
            "_view_name": "StyleView",
            "bar_color": null,
            "description_width": ""
          }
        },
        "46cf0dde79d84e0ebc8a95ea76833190": {
          "model_module": "@jupyter-widgets/base",
          "model_name": "LayoutModel",
          "model_module_version": "1.2.0",
          "state": {
            "_model_module": "@jupyter-widgets/base",
            "_model_module_version": "1.2.0",
            "_model_name": "LayoutModel",
            "_view_count": null,
            "_view_module": "@jupyter-widgets/base",
            "_view_module_version": "1.2.0",
            "_view_name": "LayoutView",
            "align_content": null,
            "align_items": null,
            "align_self": null,
            "border": null,
            "bottom": null,
            "display": null,
            "flex": null,
            "flex_flow": null,
            "grid_area": null,
            "grid_auto_columns": null,
            "grid_auto_flow": null,
            "grid_auto_rows": null,
            "grid_column": null,
            "grid_gap": null,
            "grid_row": null,
            "grid_template_areas": null,
            "grid_template_columns": null,
            "grid_template_rows": null,
            "height": null,
            "justify_content": null,
            "justify_items": null,
            "left": null,
            "margin": null,
            "max_height": null,
            "max_width": null,
            "min_height": null,
            "min_width": null,
            "object_fit": null,
            "object_position": null,
            "order": null,
            "overflow": null,
            "overflow_x": null,
            "overflow_y": null,
            "padding": null,
            "right": null,
            "top": null,
            "visibility": null,
            "width": null
          }
        },
        "c63fa810f2af4327ba6e7327eafe60f2": {
          "model_module": "@jupyter-widgets/controls",
          "model_name": "DescriptionStyleModel",
          "model_module_version": "1.5.0",
          "state": {
            "_model_module": "@jupyter-widgets/controls",
            "_model_module_version": "1.5.0",
            "_model_name": "DescriptionStyleModel",
            "_view_count": null,
            "_view_module": "@jupyter-widgets/base",
            "_view_module_version": "1.2.0",
            "_view_name": "StyleView",
            "description_width": ""
          }
        },
        "e0e4ddc9a71c460bb97bc0be9635cfbe": {
          "model_module": "@jupyter-widgets/controls",
          "model_name": "HBoxModel",
          "model_module_version": "1.5.0",
          "state": {
            "_dom_classes": [],
            "_model_module": "@jupyter-widgets/controls",
            "_model_module_version": "1.5.0",
            "_model_name": "HBoxModel",
            "_view_count": null,
            "_view_module": "@jupyter-widgets/controls",
            "_view_module_version": "1.5.0",
            "_view_name": "HBoxView",
            "box_style": "",
            "children": [
              "IPY_MODEL_66bbc104089c4b16b45601ae749dde26",
              "IPY_MODEL_1dd59d1c3dab449e93c291c22f261ce2",
              "IPY_MODEL_d5702d38377c40bf8eede79282d4115a"
            ],
            "layout": "IPY_MODEL_3b22c3eb7a0c47f1b29787f03f46b4ce"
          }
        },
        "66bbc104089c4b16b45601ae749dde26": {
          "model_module": "@jupyter-widgets/controls",
          "model_name": "HTMLModel",
          "model_module_version": "1.5.0",
          "state": {
            "_dom_classes": [],
            "_model_module": "@jupyter-widgets/controls",
            "_model_module_version": "1.5.0",
            "_model_name": "HTMLModel",
            "_view_count": null,
            "_view_module": "@jupyter-widgets/controls",
            "_view_module_version": "1.5.0",
            "_view_name": "HTMLView",
            "description": "",
            "description_tooltip": null,
            "layout": "IPY_MODEL_4e30b15016104b3a824073bd835d692b",
            "placeholder": "​",
            "style": "IPY_MODEL_ff03b3364f1240a2b64b0aaf20c3661d",
            "value": "100%"
          }
        },
        "1dd59d1c3dab449e93c291c22f261ce2": {
          "model_module": "@jupyter-widgets/controls",
          "model_name": "FloatProgressModel",
          "model_module_version": "1.5.0",
          "state": {
            "_dom_classes": [],
            "_model_module": "@jupyter-widgets/controls",
            "_model_module_version": "1.5.0",
            "_model_name": "FloatProgressModel",
            "_view_count": null,
            "_view_module": "@jupyter-widgets/controls",
            "_view_module_version": "1.5.0",
            "_view_name": "ProgressView",
            "bar_style": "success",
            "description": "",
            "description_tooltip": null,
            "layout": "IPY_MODEL_614d27e738d54e94a115225d9d07c3c1",
            "max": 15,
            "min": 0,
            "orientation": "horizontal",
            "style": "IPY_MODEL_62473bf006064cfa951123dacf3c41d4",
            "value": 15
          }
        },
        "d5702d38377c40bf8eede79282d4115a": {
          "model_module": "@jupyter-widgets/controls",
          "model_name": "HTMLModel",
          "model_module_version": "1.5.0",
          "state": {
            "_dom_classes": [],
            "_model_module": "@jupyter-widgets/controls",
            "_model_module_version": "1.5.0",
            "_model_name": "HTMLModel",
            "_view_count": null,
            "_view_module": "@jupyter-widgets/controls",
            "_view_module_version": "1.5.0",
            "_view_name": "HTMLView",
            "description": "",
            "description_tooltip": null,
            "layout": "IPY_MODEL_3e46999ed55d42608ae70fdfceec86f0",
            "placeholder": "​",
            "style": "IPY_MODEL_ca0cf703e3b74b9db058d6dff27aaa75",
            "value": " 15/15 [03:45&lt;00:00, 14.89s/it]"
          }
        },
        "3b22c3eb7a0c47f1b29787f03f46b4ce": {
          "model_module": "@jupyter-widgets/base",
          "model_name": "LayoutModel",
          "model_module_version": "1.2.0",
          "state": {
            "_model_module": "@jupyter-widgets/base",
            "_model_module_version": "1.2.0",
            "_model_name": "LayoutModel",
            "_view_count": null,
            "_view_module": "@jupyter-widgets/base",
            "_view_module_version": "1.2.0",
            "_view_name": "LayoutView",
            "align_content": null,
            "align_items": null,
            "align_self": null,
            "border": null,
            "bottom": null,
            "display": null,
            "flex": null,
            "flex_flow": null,
            "grid_area": null,
            "grid_auto_columns": null,
            "grid_auto_flow": null,
            "grid_auto_rows": null,
            "grid_column": null,
            "grid_gap": null,
            "grid_row": null,
            "grid_template_areas": null,
            "grid_template_columns": null,
            "grid_template_rows": null,
            "height": null,
            "justify_content": null,
            "justify_items": null,
            "left": null,
            "margin": null,
            "max_height": null,
            "max_width": null,
            "min_height": null,
            "min_width": null,
            "object_fit": null,
            "object_position": null,
            "order": null,
            "overflow": null,
            "overflow_x": null,
            "overflow_y": null,
            "padding": null,
            "right": null,
            "top": null,
            "visibility": null,
            "width": null
          }
        },
        "4e30b15016104b3a824073bd835d692b": {
          "model_module": "@jupyter-widgets/base",
          "model_name": "LayoutModel",
          "model_module_version": "1.2.0",
          "state": {
            "_model_module": "@jupyter-widgets/base",
            "_model_module_version": "1.2.0",
            "_model_name": "LayoutModel",
            "_view_count": null,
            "_view_module": "@jupyter-widgets/base",
            "_view_module_version": "1.2.0",
            "_view_name": "LayoutView",
            "align_content": null,
            "align_items": null,
            "align_self": null,
            "border": null,
            "bottom": null,
            "display": null,
            "flex": null,
            "flex_flow": null,
            "grid_area": null,
            "grid_auto_columns": null,
            "grid_auto_flow": null,
            "grid_auto_rows": null,
            "grid_column": null,
            "grid_gap": null,
            "grid_row": null,
            "grid_template_areas": null,
            "grid_template_columns": null,
            "grid_template_rows": null,
            "height": null,
            "justify_content": null,
            "justify_items": null,
            "left": null,
            "margin": null,
            "max_height": null,
            "max_width": null,
            "min_height": null,
            "min_width": null,
            "object_fit": null,
            "object_position": null,
            "order": null,
            "overflow": null,
            "overflow_x": null,
            "overflow_y": null,
            "padding": null,
            "right": null,
            "top": null,
            "visibility": null,
            "width": null
          }
        },
        "ff03b3364f1240a2b64b0aaf20c3661d": {
          "model_module": "@jupyter-widgets/controls",
          "model_name": "DescriptionStyleModel",
          "model_module_version": "1.5.0",
          "state": {
            "_model_module": "@jupyter-widgets/controls",
            "_model_module_version": "1.5.0",
            "_model_name": "DescriptionStyleModel",
            "_view_count": null,
            "_view_module": "@jupyter-widgets/base",
            "_view_module_version": "1.2.0",
            "_view_name": "StyleView",
            "description_width": ""
          }
        },
        "614d27e738d54e94a115225d9d07c3c1": {
          "model_module": "@jupyter-widgets/base",
          "model_name": "LayoutModel",
          "model_module_version": "1.2.0",
          "state": {
            "_model_module": "@jupyter-widgets/base",
            "_model_module_version": "1.2.0",
            "_model_name": "LayoutModel",
            "_view_count": null,
            "_view_module": "@jupyter-widgets/base",
            "_view_module_version": "1.2.0",
            "_view_name": "LayoutView",
            "align_content": null,
            "align_items": null,
            "align_self": null,
            "border": null,
            "bottom": null,
            "display": null,
            "flex": null,
            "flex_flow": null,
            "grid_area": null,
            "grid_auto_columns": null,
            "grid_auto_flow": null,
            "grid_auto_rows": null,
            "grid_column": null,
            "grid_gap": null,
            "grid_row": null,
            "grid_template_areas": null,
            "grid_template_columns": null,
            "grid_template_rows": null,
            "height": null,
            "justify_content": null,
            "justify_items": null,
            "left": null,
            "margin": null,
            "max_height": null,
            "max_width": null,
            "min_height": null,
            "min_width": null,
            "object_fit": null,
            "object_position": null,
            "order": null,
            "overflow": null,
            "overflow_x": null,
            "overflow_y": null,
            "padding": null,
            "right": null,
            "top": null,
            "visibility": null,
            "width": null
          }
        },
        "62473bf006064cfa951123dacf3c41d4": {
          "model_module": "@jupyter-widgets/controls",
          "model_name": "ProgressStyleModel",
          "model_module_version": "1.5.0",
          "state": {
            "_model_module": "@jupyter-widgets/controls",
            "_model_module_version": "1.5.0",
            "_model_name": "ProgressStyleModel",
            "_view_count": null,
            "_view_module": "@jupyter-widgets/base",
            "_view_module_version": "1.2.0",
            "_view_name": "StyleView",
            "bar_color": null,
            "description_width": ""
          }
        },
        "3e46999ed55d42608ae70fdfceec86f0": {
          "model_module": "@jupyter-widgets/base",
          "model_name": "LayoutModel",
          "model_module_version": "1.2.0",
          "state": {
            "_model_module": "@jupyter-widgets/base",
            "_model_module_version": "1.2.0",
            "_model_name": "LayoutModel",
            "_view_count": null,
            "_view_module": "@jupyter-widgets/base",
            "_view_module_version": "1.2.0",
            "_view_name": "LayoutView",
            "align_content": null,
            "align_items": null,
            "align_self": null,
            "border": null,
            "bottom": null,
            "display": null,
            "flex": null,
            "flex_flow": null,
            "grid_area": null,
            "grid_auto_columns": null,
            "grid_auto_flow": null,
            "grid_auto_rows": null,
            "grid_column": null,
            "grid_gap": null,
            "grid_row": null,
            "grid_template_areas": null,
            "grid_template_columns": null,
            "grid_template_rows": null,
            "height": null,
            "justify_content": null,
            "justify_items": null,
            "left": null,
            "margin": null,
            "max_height": null,
            "max_width": null,
            "min_height": null,
            "min_width": null,
            "object_fit": null,
            "object_position": null,
            "order": null,
            "overflow": null,
            "overflow_x": null,
            "overflow_y": null,
            "padding": null,
            "right": null,
            "top": null,
            "visibility": null,
            "width": null
          }
        },
        "ca0cf703e3b74b9db058d6dff27aaa75": {
          "model_module": "@jupyter-widgets/controls",
          "model_name": "DescriptionStyleModel",
          "model_module_version": "1.5.0",
          "state": {
            "_model_module": "@jupyter-widgets/controls",
            "_model_module_version": "1.5.0",
            "_model_name": "DescriptionStyleModel",
            "_view_count": null,
            "_view_module": "@jupyter-widgets/base",
            "_view_module_version": "1.2.0",
            "_view_name": "StyleView",
            "description_width": ""
          }
        }
      }
    }
  },
  "cells": [
    {
      "cell_type": "markdown",
      "metadata": {
        "id": "view-in-github",
        "colab_type": "text"
      },
      "source": [
        "<a href=\"https://colab.research.google.com/github/ExplorerGumel/ArewaDS-Pytorch-Fellowship-Solutions/blob/main/extras/exercises/03_pytorch_computer_vision_exercises.ipynb\" target=\"_parent\"><img src=\"https://colab.research.google.com/assets/colab-badge.svg\" alt=\"Open In Colab\"/></a>"
      ]
    },
    {
      "cell_type": "markdown",
      "source": [
        "# 03. PyTorch Computer Vision Exercises\n",
        "\n",
        "The following is a collection of exercises based on computer vision fundamentals in PyTorch.\n",
        "\n",
        "They're a bunch of fun.\n",
        "\n",
        "You're going to get to write plenty of code!\n",
        "\n",
        "## Resources\n",
        "\n",
        "1. These exercises are based on [notebook 03 of the Learn PyTorch for Deep Learning course](https://www.learnpytorch.io/03_pytorch_computer_vision/).\n",
        "2. See a live [walkthrough of the solutions (errors and all) on YouTube](https://youtu.be/_PibmqpEyhA).\n",
        "  * **Note:** Going through these exercises took me just over 3 hours of solid coding, so you should expect around the same.\n",
        "3. See [other solutions on the course GitHub](https://github.com/mrdbourke/pytorch-deep-learning/tree/main/extras/solutions)."
      ],
      "metadata": {
        "id": "Vex99np2wFVt"
      }
    },
    {
      "cell_type": "code",
      "source": [
        "# Check for GPU\n",
        "!nvidia-smi"
      ],
      "metadata": {
        "colab": {
          "base_uri": "https://localhost:8080/"
        },
        "id": "GaeYzOTLwWh2",
        "outputId": "20716809-1a0b-4775-a7f9-199c748e14fc"
      },
      "execution_count": 1,
      "outputs": [
        {
          "output_type": "stream",
          "name": "stdout",
          "text": [
            "Mon Jan 22 19:56:12 2024       \n",
            "+---------------------------------------------------------------------------------------+\n",
            "| NVIDIA-SMI 535.104.05             Driver Version: 535.104.05   CUDA Version: 12.2     |\n",
            "|-----------------------------------------+----------------------+----------------------+\n",
            "| GPU  Name                 Persistence-M | Bus-Id        Disp.A | Volatile Uncorr. ECC |\n",
            "| Fan  Temp   Perf          Pwr:Usage/Cap |         Memory-Usage | GPU-Util  Compute M. |\n",
            "|                                         |                      |               MIG M. |\n",
            "|=========================================+======================+======================|\n",
            "|   0  Tesla T4                       Off | 00000000:00:04.0 Off |                    0 |\n",
            "| N/A   42C    P8               9W /  70W |      0MiB / 15360MiB |      0%      Default |\n",
            "|                                         |                      |                  N/A |\n",
            "+-----------------------------------------+----------------------+----------------------+\n",
            "                                                                                         \n",
            "+---------------------------------------------------------------------------------------+\n",
            "| Processes:                                                                            |\n",
            "|  GPU   GI   CI        PID   Type   Process name                            GPU Memory |\n",
            "|        ID   ID                                                             Usage      |\n",
            "|=======================================================================================|\n",
            "|  No running processes found                                                           |\n",
            "+---------------------------------------------------------------------------------------+\n"
          ]
        }
      ]
    },
    {
      "cell_type": "code",
      "source": [
        "# Import torch\n",
        "import torch\n",
        "\n",
        "# Exercises require PyTorch > 1.10.0\n",
        "print(torch.__version__)\n",
        "\n",
        "# TODO: Setup device agnostic code\n",
        "device = \"cuda\" if torch.cuda.is_available() else \"cpu\"\n",
        "device"
      ],
      "metadata": {
        "colab": {
          "base_uri": "https://localhost:8080/",
          "height": 52
        },
        "id": "DNwZLMbCzJLk",
        "outputId": "2b00e0cf-0b9a-403b-9d4f-4cdda703143e"
      },
      "execution_count": 2,
      "outputs": [
        {
          "output_type": "stream",
          "name": "stdout",
          "text": [
            "2.1.0+cu121\n"
          ]
        },
        {
          "output_type": "execute_result",
          "data": {
            "text/plain": [
              "'cuda'"
            ],
            "application/vnd.google.colaboratory.intrinsic+json": {
              "type": "string"
            }
          },
          "metadata": {},
          "execution_count": 2
        }
      ]
    },
    {
      "cell_type": "markdown",
      "source": [
        "## 1. What are 3 areas in industry where computer vision is currently being used?"
      ],
      "metadata": {
        "id": "FSFX7tc1w-en"
      }
    },
    {
      "cell_type": "code",
      "source": [],
      "metadata": {
        "id": "VyWRkvWGbCXj"
      },
      "execution_count": 2,
      "outputs": []
    },
    {
      "cell_type": "markdown",
      "source": [
        "Generally, Computer vision has applications in almost all industries but below are the 3 areas to which it's most applicabe;\n",
        "\n",
        "\n",
        "1.   Autonomous driving vehicles\n",
        "2.   Medical imaging\n",
        "3.   Agriculture\n",
        "\n",
        "\n"
      ],
      "metadata": {
        "id": "a3v0dVOr9kKg"
      }
    },
    {
      "cell_type": "markdown",
      "source": [
        "## 2. Search \"what is overfitting in machine learning\" and write down a sentence about what you find."
      ],
      "metadata": {
        "id": "oBK-WI6YxDYa"
      }
    },
    {
      "cell_type": "code",
      "source": [],
      "metadata": {
        "id": "d1rxD6GObCqh"
      },
      "execution_count": 2,
      "outputs": []
    },
    {
      "cell_type": "markdown",
      "source": [
        "Overfitting refers to the phenomena when the model perfectly(forcefully) fits to the training data but fail to reflect similar on the test data. It usually spotted by having higher score(almost perfect) on the training data while low score on the test data.\n",
        "\n"
      ],
      "metadata": {
        "id": "eNOBV73k-SE4"
      }
    },
    {
      "cell_type": "markdown",
      "source": [
        "## 3. Search \"ways to prevent overfitting in machine learning\", write down 3 of the things you find and a sentence about each.\n",
        "> **Note:** there are lots of these, so don't worry too much about all of them, just pick 3 and start with those."
      ],
      "metadata": {
        "id": "XeYFEqw8xK26"
      }
    },
    {
      "cell_type": "markdown",
      "source": [
        "3 Ways to mitigate overfitting are;\n",
        "\n",
        "\n",
        "\n",
        "1.   Increase training samples\n",
        "2.   reduce training time.\n",
        "3.   Introduce regularization\n",
        "\n"
      ],
      "metadata": {
        "id": "ciPRokJc_ViA"
      }
    },
    {
      "cell_type": "code",
      "source": [],
      "metadata": {
        "id": "ocvOdWKcbEKr"
      },
      "execution_count": 2,
      "outputs": []
    },
    {
      "cell_type": "markdown",
      "source": [
        "## 4. Spend 20-minutes reading and clicking through the [CNN Explainer website](https://poloclub.github.io/cnn-explainer/).\n",
        "\n",
        "* Upload your own example image using the \"upload\" button on the website and see what happens in each layer of a CNN as your image passes through it."
      ],
      "metadata": {
        "id": "DKdEEFEqxM-8"
      }
    },
    {
      "cell_type": "code",
      "source": [],
      "metadata": {
        "id": "TqZaJIRMbFtS"
      },
      "execution_count": 2,
      "outputs": []
    },
    {
      "cell_type": "markdown",
      "source": [
        "## 5. Load the [`torchvision.datasets.MNIST()`](https://pytorch.org/vision/stable/generated/torchvision.datasets.MNIST.html#torchvision.datasets.MNIST) train and test datasets."
      ],
      "metadata": {
        "id": "lvf-3pODxXYI"
      }
    },
    {
      "cell_type": "code",
      "source": [
        "#Import torchvision\n",
        "import torchvision\n",
        "from torchvision import datasets\n",
        "from torchvision.transforms import ToTensor\n",
        "\n",
        "# Import matplotlib for visualization\n",
        "import matplotlib.pyplot as plt\n",
        "\n",
        "\n",
        "# Training data\n",
        "train_data = datasets.FashionMNIST(\n",
        "    root=\"/content/\", # directory\n",
        "    train=True, # either train or test\n",
        "    download=True, # download data\n",
        "    transform=ToTensor(), # turn into Torch tensors\n",
        "    target_transform=None\n",
        ")\n",
        "\n",
        "# Testing data\n",
        "test_data = datasets.FashionMNIST(\n",
        "    root=\"/content/\", #\n",
        "    train=False, # either train or test\n",
        "    download=True, # download data\n",
        "    transform=ToTensor() # turn into Torch tensors\n",
        ")"
      ],
      "metadata": {
        "id": "SHjeuN81bHza",
        "outputId": "018c8b9e-2cd0-4be3-b6f7-f9cdf07222ee",
        "colab": {
          "base_uri": "https://localhost:8080/"
        }
      },
      "execution_count": 3,
      "outputs": [
        {
          "output_type": "stream",
          "name": "stdout",
          "text": [
            "Downloading http://fashion-mnist.s3-website.eu-central-1.amazonaws.com/train-images-idx3-ubyte.gz\n",
            "Downloading http://fashion-mnist.s3-website.eu-central-1.amazonaws.com/train-images-idx3-ubyte.gz to /content/FashionMNIST/raw/train-images-idx3-ubyte.gz\n"
          ]
        },
        {
          "output_type": "stream",
          "name": "stderr",
          "text": [
            "100%|██████████| 26421880/26421880 [00:21<00:00, 1240918.08it/s]\n"
          ]
        },
        {
          "output_type": "stream",
          "name": "stdout",
          "text": [
            "Extracting /content/FashionMNIST/raw/train-images-idx3-ubyte.gz to /content/FashionMNIST/raw\n",
            "\n",
            "Downloading http://fashion-mnist.s3-website.eu-central-1.amazonaws.com/train-labels-idx1-ubyte.gz\n",
            "Downloading http://fashion-mnist.s3-website.eu-central-1.amazonaws.com/train-labels-idx1-ubyte.gz to /content/FashionMNIST/raw/train-labels-idx1-ubyte.gz\n"
          ]
        },
        {
          "output_type": "stream",
          "name": "stderr",
          "text": [
            "100%|██████████| 29515/29515 [00:00<00:00, 269254.52it/s]\n"
          ]
        },
        {
          "output_type": "stream",
          "name": "stdout",
          "text": [
            "Extracting /content/FashionMNIST/raw/train-labels-idx1-ubyte.gz to /content/FashionMNIST/raw\n",
            "\n",
            "Downloading http://fashion-mnist.s3-website.eu-central-1.amazonaws.com/t10k-images-idx3-ubyte.gz\n",
            "Downloading http://fashion-mnist.s3-website.eu-central-1.amazonaws.com/t10k-images-idx3-ubyte.gz to /content/FashionMNIST/raw/t10k-images-idx3-ubyte.gz\n"
          ]
        },
        {
          "output_type": "stream",
          "name": "stderr",
          "text": [
            "100%|██████████| 4422102/4422102 [00:00<00:00, 5011243.66it/s]\n"
          ]
        },
        {
          "output_type": "stream",
          "name": "stdout",
          "text": [
            "Extracting /content/FashionMNIST/raw/t10k-images-idx3-ubyte.gz to /content/FashionMNIST/raw\n",
            "\n",
            "Downloading http://fashion-mnist.s3-website.eu-central-1.amazonaws.com/t10k-labels-idx1-ubyte.gz\n",
            "Downloading http://fashion-mnist.s3-website.eu-central-1.amazonaws.com/t10k-labels-idx1-ubyte.gz to /content/FashionMNIST/raw/t10k-labels-idx1-ubyte.gz\n"
          ]
        },
        {
          "output_type": "stream",
          "name": "stderr",
          "text": [
            "100%|██████████| 5148/5148 [00:00<00:00, 5332743.14it/s]"
          ]
        },
        {
          "output_type": "stream",
          "name": "stdout",
          "text": [
            "Extracting /content/FashionMNIST/raw/t10k-labels-idx1-ubyte.gz to /content/FashionMNIST/raw\n",
            "\n"
          ]
        },
        {
          "output_type": "stream",
          "name": "stderr",
          "text": [
            "\n"
          ]
        }
      ]
    },
    {
      "cell_type": "markdown",
      "source": [
        "## 6. Visualize at least 5 different samples of the MNIST training dataset."
      ],
      "metadata": {
        "id": "qxZW-uAbxe_F"
      }
    },
    {
      "cell_type": "code",
      "source": [
        "# Plot more images\n",
        "import torch\n",
        "class_names = train_data.classes\n",
        "\n",
        "torch.manual_seed(42)\n",
        "fig = plt.figure(figsize=(6, 6))\n",
        "rows, cols = 3, 3\n",
        "for i in range(1, rows * cols + 1):\n",
        "    random_idx = torch.randint(0, len(train_data), size=[1]).item()\n",
        "    img, label = train_data[random_idx]\n",
        "    fig.add_subplot(rows, cols, i)\n",
        "    plt.imshow(img.squeeze(), cmap=\"gray\")\n",
        "    plt.title(class_names[label])\n",
        "    plt.axis(False);"
      ],
      "metadata": {
        "id": "QVFsYi1PbItE",
        "outputId": "59dd8c7f-4f83-4ff9-b833-48c3c4748662",
        "colab": {
          "base_uri": "https://localhost:8080/",
          "height": 521
        }
      },
      "execution_count": 4,
      "outputs": [
        {
          "output_type": "display_data",
          "data": {
            "text/plain": [
              "<Figure size 600x600 with 9 Axes>"
            ],
            "image/png": "[encoded data removed]"
          },
          "metadata": {}
        }
      ]
    },
    {
      "cell_type": "markdown",
      "source": [
        "## 7. Turn the MNIST train and test datasets into dataloaders using `torch.utils.data.DataLoader`, set the `batch_size=32`."
      ],
      "metadata": {
        "id": "JAPDzW0wxhi3"
      }
    },
    {
      "cell_type": "code",
      "source": [
        "from torch.utils.data import DataLoader\n",
        "\n",
        "# Setup the batch size hyperparameter\n",
        "batch_size = 32\n",
        "\n",
        "# Turn datasets into iterables (batches)\n",
        "train_dataloader = DataLoader(train_data, # dataset to turn into iterable\n",
        "    batch_size=batch_size, # how many samples per batch?\n",
        "    shuffle=True # shuffle data every epoch?\n",
        ")\n",
        "\n",
        "test_dataloader = DataLoader(test_data,\n",
        "    batch_size=batch_size,\n",
        "    shuffle=False # don't necessarily have to shuffle the testing data\n",
        ")"
      ],
      "metadata": {
        "id": "ALA6MPcFbJXQ"
      },
      "execution_count": 5,
      "outputs": []
    },
    {
      "cell_type": "markdown",
      "source": [
        "## 8. Recreate `model_2` used in notebook 03 (the same model from the [CNN Explainer website](https://poloclub.github.io/cnn-explainer/), also known as TinyVGG) capable of fitting on the MNIST dataset."
      ],
      "metadata": {
        "id": "bCCVfXk5xjYS"
      }
    },
    {
      "cell_type": "code",
      "source": [
        "# Create a convolutional neural network\n",
        "from torch import nn\n",
        "\n",
        "class FashionMNISTModelV2(nn.Module):\n",
        "    \"\"\"\n",
        "    Model architecture copying TinyVGG from:\n",
        "    https://poloclub.github.io/cnn-explainer/\n",
        "    \"\"\"\n",
        "    def __init__(self, input_shape: int, hidden_units: int, output_shape: int):\n",
        "        super().__init__()\n",
        "        self.block_1 = nn.Sequential(\n",
        "            nn.Conv2d(in_channels=input_shape,\n",
        "                      out_channels=hidden_units,\n",
        "                      kernel_size=3, # how big is the square that's going over the image?\n",
        "                      stride=1, # default\n",
        "                      padding=1),# options = \"valid\" (no padding) or \"same\" (output has same shape as input) or int for specific number\n",
        "            nn.ReLU(),\n",
        "            nn.Conv2d(in_channels=hidden_units,\n",
        "                      out_channels=hidden_units,\n",
        "                      kernel_size=3,\n",
        "                      stride=1,\n",
        "                      padding=1),\n",
        "            nn.ReLU(),\n",
        "            nn.MaxPool2d(kernel_size=2,\n",
        "                         stride=2) # default stride value is same as kernel_size\n",
        "        )\n",
        "        self.block_2 = nn.Sequential(\n",
        "            nn.Conv2d(hidden_units, hidden_units, 3, padding=1),\n",
        "            nn.ReLU(),\n",
        "            nn.Conv2d(hidden_units, hidden_units, 3, padding=1),\n",
        "            nn.ReLU(),\n",
        "            nn.MaxPool2d(2)\n",
        "        )\n",
        "        self.classifier = nn.Sequential(\n",
        "            nn.Flatten(),\n",
        "            # Where did this in_features shape come from?\n",
        "            # It's because each layer of our network compresses and changes the shape of our inputs data.\n",
        "            nn.Linear(in_features=hidden_units*7*7,\n",
        "                      out_features=output_shape)\n",
        "        )\n",
        "\n",
        "    def forward(self, x: torch.Tensor):\n",
        "        x = self.block_1(x)\n",
        "        x = self.block_2(x)\n",
        "        x = self.classifier(x)\n",
        "        return x"
      ],
      "metadata": {
        "id": "5IKNF22XbKYS"
      },
      "execution_count": 7,
      "outputs": []
    },
    {
      "cell_type": "markdown",
      "source": [
        "## 9. Train the model you built in exercise 8. for 5 epochs on CPU and GPU and see how long it takes on each."
      ],
      "metadata": {
        "id": "sf_3zUr7xlhy"
      }
    },
    {
      "cell_type": "code",
      "source": [
        "# A helper functions to print the timing and for training and validation loops\n",
        "\n",
        "\n",
        "from timeit import default_timer as timer\n",
        "def print_train_time(start: float, end: float, device: torch.device = None):\n",
        "\n",
        "    total_time = end - start\n",
        "    print(f\"Train time on {device}: {total_time:.3f} seconds\")\n",
        "    return total_time\n",
        "\n",
        "def training_loop(model: torch.nn.Module,\n",
        "               data_loader: torch.utils.data.DataLoader,\n",
        "               loss_fn: torch.nn.Module,\n",
        "               optimizer: torch.optim.Optimizer,\n",
        "               accuracy_fn,\n",
        "               device: torch.device = device):\n",
        "    train_loss, train_acc = 0, 0\n",
        "    model = model\n",
        "    for batch, (X, y) in enumerate(data_loader):\n",
        "\n",
        "        # Send data to appropriate device\n",
        "        X, y = X.to(device), y.to(device)\n",
        "\n",
        "        # 1. Forward pass\n",
        "        y_pred = model(X)\n",
        "\n",
        "        # 2. Calculate loss\n",
        "        loss = loss_fn(y_pred, y)\n",
        "        train_loss += loss\n",
        "        train_acc += accuracy_fn(y_true=y,\n",
        "                                 y_pred=y_pred.argmax(dim=1)) # Go from logits -> pred labels\n",
        "\n",
        "        # 3. Optimizer zero grad\n",
        "        optimizer.zero_grad()\n",
        "\n",
        "        # 4. Loss backward\n",
        "        loss.backward()\n",
        "\n",
        "        # 5. Optimizer step\n",
        "        optimizer.step()\n",
        "\n",
        "    # Calculate loss and accuracy per epoch and print out what's happening\n",
        "    train_loss /= len(data_loader)\n",
        "    train_acc /= len(data_loader)\n",
        "    print(f\"Train loss: {train_loss:.5f} | Train accuracy: {train_acc:.2f}%\")\n",
        "\n",
        "def testing_loop(data_loader: torch.utils.data.DataLoader,\n",
        "              model: torch.nn.Module,\n",
        "              loss_fn: torch.nn.Module,\n",
        "              accuracy_fn,\n",
        "              device: torch.device = device): #\n",
        "    test_loss, test_acc = 0, 0\n",
        "    model.to(device)\n",
        "    model.eval() # put model in eval mode\n",
        "    # Turn on inference context manager\n",
        "    with torch.inference_mode():\n",
        "        for X, y in data_loader:\n",
        "            # Send data to GPU\n",
        "            X, y = X.to(device), y.to(device)\n",
        "\n",
        "            # 1. Forward pass\n",
        "            test_pred = model(X)\n",
        "\n",
        "            # 2. Calculate loss and accuracy\n",
        "            test_loss += loss_fn(test_pred, y)\n",
        "            test_acc += accuracy_fn(y_true=y,\n",
        "                y_pred=test_pred.argmax(dim=1)\n",
        "            )\n",
        "\n",
        "        # Adjust metrics and print out\n",
        "        test_loss /= len(data_loader)\n",
        "        test_acc /= len(data_loader)\n",
        "        print(f\"Test loss: {test_loss:.5f} | Test accuracy: {test_acc:.2f}%\\n\")\n",
        "\n",
        "\n"
      ],
      "metadata": {
        "id": "R6VKSRDlkYKH"
      },
      "execution_count": 8,
      "outputs": []
    },
    {
      "cell_type": "code",
      "source": [
        "# Import accuracy function\n",
        "\n",
        "import requests\n",
        "from pathlib import Path\n",
        "\n",
        "# Download helper functions from Learn PyTorch repo (if not already downloaded)\n",
        "if Path(\"helper_functions.py\").is_file():\n",
        "  print(\"helper_functions.py already exists, skipping download\")\n",
        "else:\n",
        "  print(\"Downloading helper_functions.py\")\n",
        "  # Note: you need the \"raw\" GitHub URL for this to work\n",
        "  request = requests.get(\"https://raw.githubusercontent.com/mrdbourke/pytorch-deep-learning/main/helper_functions.py\")\n",
        "  with open(\"helper_functions.py\", \"wb\") as f:\n",
        "    f.write(request.content)\n",
        "\n",
        "from helper_functions import accuracy_fn # Note: could also use torchmetrics.Accuracy(task = 'multiclass', num_classes=len(class_names)).to(device)\n"
      ],
      "metadata": {
        "id": "hGVZj9slH1kx",
        "outputId": "d887f9e8-9f24-4e27-990b-810b6b0f4b5d",
        "colab": {
          "base_uri": "https://localhost:8080/"
        }
      },
      "execution_count": 9,
      "outputs": [
        {
          "output_type": "stream",
          "name": "stdout",
          "text": [
            "Downloading helper_functions.py\n"
          ]
        }
      ]
    },
    {
      "cell_type": "markdown",
      "source": [
        "# TRAINING ON GPU"
      ],
      "metadata": {
        "id": "LWYjHXnknPWt"
      }
    },
    {
      "cell_type": "code",
      "source": [
        "torch.manual_seed(42)\n",
        "model_2_gpu = FashionMNISTModelV2(input_shape=1,\n",
        "    hidden_units=10,\n",
        "    output_shape=len(class_names)).to(device)\n",
        "model_2_gpu"
      ],
      "metadata": {
        "id": "3M_BYgwEjagj",
        "outputId": "b7973fba-113c-4c14-ada1-e958cab8b08d",
        "colab": {
          "base_uri": "https://localhost:8080/"
        }
      },
      "execution_count": 10,
      "outputs": [
        {
          "output_type": "execute_result",
          "data": {
            "text/plain": [
              "FashionMNISTModelV2(\n",
              "  (block_1): Sequential(\n",
              "    (0): Conv2d(1, 10, kernel_size=(3, 3), stride=(1, 1), padding=(1, 1))\n",
              "    (1): ReLU()\n",
              "    (2): Conv2d(10, 10, kernel_size=(3, 3), stride=(1, 1), padding=(1, 1))\n",
              "    (3): ReLU()\n",
              "    (4): MaxPool2d(kernel_size=2, stride=2, padding=0, dilation=1, ceil_mode=False)\n",
              "  )\n",
              "  (block_2): Sequential(\n",
              "    (0): Conv2d(10, 10, kernel_size=(3, 3), stride=(1, 1), padding=(1, 1))\n",
              "    (1): ReLU()\n",
              "    (2): Conv2d(10, 10, kernel_size=(3, 3), stride=(1, 1), padding=(1, 1))\n",
              "    (3): ReLU()\n",
              "    (4): MaxPool2d(kernel_size=2, stride=2, padding=0, dilation=1, ceil_mode=False)\n",
              "  )\n",
              "  (classifier): Sequential(\n",
              "    (0): Flatten(start_dim=1, end_dim=-1)\n",
              "    (1): Linear(in_features=490, out_features=10, bias=True)\n",
              "  )\n",
              ")"
            ]
          },
          "metadata": {},
          "execution_count": 10
        }
      ]
    },
    {
      "cell_type": "code",
      "source": [
        "# Setup loss and optimizer\n",
        "torch.manual_seed(42)\n",
        "from tqdm.auto import tqdm\n",
        "loss_fn = nn.CrossEntropyLoss()\n",
        "optimizer = torch.optim.SGD(params=model_2_gpu.parameters(),\n",
        "                             lr=0.1)\n",
        "# Measure time\n",
        "train_time_start_on_gpu = timer()\n",
        "\n",
        "epochs = 5\n",
        "for epoch in tqdm(range(epochs)):\n",
        "    print(f\"Epoch: {epoch}\\n---------\")\n",
        "    training_loop(data_loader=train_dataloader,\n",
        "        model=model_2_gpu,\n",
        "        loss_fn=loss_fn,\n",
        "        optimizer=optimizer,\n",
        "        accuracy_fn=accuracy_fn\n",
        "    )\n",
        "    testing_loop(data_loader=test_dataloader,\n",
        "        model=model_2_gpu,\n",
        "        loss_fn=loss_fn,\n",
        "        accuracy_fn=accuracy_fn\n",
        "    )\n",
        "\n",
        "\n",
        "train_time_end_on_gpu = timer()\n",
        "total_train_time_model_1 = print_train_time(start=train_time_start_on_gpu,\n",
        "                                            end=train_time_end_on_gpu,\n",
        "                                            device=device)"
      ],
      "metadata": {
        "id": "AjFcT_kyGLLV",
        "outputId": "073bac64-9b1f-4b0c-d6c0-f6d8ec5a1c51",
        "colab": {
          "base_uri": "https://localhost:8080/",
          "height": 500,
          "referenced_widgets": [
            "68371fbbc8b44fcd92ac53edf15bd112",
            "2cbfb474a1b44f408874e290d9daef1e",
            "846b300a71624959962e13e3c72c59c3",
            "6e57717beee44a31899d0044851009b7",
            "5c0691c80c734a1a82c289afadc692f2",
            "fa69fc6f080c4a51a7092543d2f02454",
            "42acf738a91742209659c28c863baba7",
            "1c08f16dee1247559f654177eb725549",
            "ca5cdb7d065f4091b6f71a736055a145",
            "aade080f886e49c7b55a079a1eb64c1b",
            "8a2632d439d847e0a41ae1168c54dcb1"
          ]
        }
      },
      "execution_count": 11,
      "outputs": [
        {
          "output_type": "display_data",
          "data": {
            "text/plain": [
              "  0%|          | 0/5 [00:00<?, ?it/s]"
            ],
            "application/vnd.jupyter.widget-view+json": {
              "version_major": 2,
              "version_minor": 0,
              "model_id": "68371fbbc8b44fcd92ac53edf15bd112"
            }
          },
          "metadata": {}
        },
        {
          "output_type": "stream",
          "name": "stdout",
          "text": [
            "Epoch: 0\n",
            "---------\n",
            "Train loss: 0.59039 | Train accuracy: 78.58%\n",
            "Test loss: 0.40191 | Test accuracy: 85.66%\n",
            "\n",
            "Epoch: 1\n",
            "---------\n",
            "Train loss: 0.36280 | Train accuracy: 86.90%\n",
            "Test loss: 0.36102 | Test accuracy: 86.56%\n",
            "\n",
            "Epoch: 2\n",
            "---------\n",
            "Train loss: 0.32425 | Train accuracy: 88.28%\n",
            "Test loss: 0.32394 | Test accuracy: 88.14%\n",
            "\n",
            "Epoch: 3\n",
            "---------\n",
            "Train loss: 0.30349 | Train accuracy: 88.90%\n",
            "Test loss: 0.33427 | Test accuracy: 87.76%\n",
            "\n",
            "Epoch: 4\n",
            "---------\n",
            "Train loss: 0.28902 | Train accuracy: 89.50%\n",
            "Test loss: 0.30673 | Test accuracy: 88.84%\n",
            "\n",
            "Train time on cuda: 65.112 seconds\n"
          ]
        }
      ]
    },
    {
      "cell_type": "markdown",
      "source": [
        "# TRAINING ON CPU"
      ],
      "metadata": {
        "id": "3tp9OM7Do0DH"
      }
    },
    {
      "cell_type": "code",
      "source": [
        "## Changing the model device to cpu\n",
        "device = \"cpu\"\n",
        "model_2_cpu = model_2_gpu.to(device)\n",
        "model_2_cpu"
      ],
      "metadata": {
        "id": "1vgXN1PwpKQE",
        "outputId": "ab6dab6e-ac5c-4653-b2e0-171ee04881c6",
        "colab": {
          "base_uri": "https://localhost:8080/"
        }
      },
      "execution_count": 12,
      "outputs": [
        {
          "output_type": "execute_result",
          "data": {
            "text/plain": [
              "FashionMNISTModelV2(\n",
              "  (block_1): Sequential(\n",
              "    (0): Conv2d(1, 10, kernel_size=(3, 3), stride=(1, 1), padding=(1, 1))\n",
              "    (1): ReLU()\n",
              "    (2): Conv2d(10, 10, kernel_size=(3, 3), stride=(1, 1), padding=(1, 1))\n",
              "    (3): ReLU()\n",
              "    (4): MaxPool2d(kernel_size=2, stride=2, padding=0, dilation=1, ceil_mode=False)\n",
              "  )\n",
              "  (block_2): Sequential(\n",
              "    (0): Conv2d(10, 10, kernel_size=(3, 3), stride=(1, 1), padding=(1, 1))\n",
              "    (1): ReLU()\n",
              "    (2): Conv2d(10, 10, kernel_size=(3, 3), stride=(1, 1), padding=(1, 1))\n",
              "    (3): ReLU()\n",
              "    (4): MaxPool2d(kernel_size=2, stride=2, padding=0, dilation=1, ceil_mode=False)\n",
              "  )\n",
              "  (classifier): Sequential(\n",
              "    (0): Flatten(start_dim=1, end_dim=-1)\n",
              "    (1): Linear(in_features=490, out_features=10, bias=True)\n",
              "  )\n",
              ")"
            ]
          },
          "metadata": {},
          "execution_count": 12
        }
      ]
    },
    {
      "cell_type": "code",
      "source": [
        "torch.manual_seed(42)\n",
        "\n",
        "# Measure time\n",
        "\n",
        "train_time_start_model_2 = timer()\n",
        "\n",
        "# Train and test model\n",
        "epochs = 5\n",
        "for epoch in tqdm(range(epochs)):\n",
        "    print(f\"Epoch: {epoch}\\n---------\")\n",
        "    training_loop(data_loader=train_dataloader,\n",
        "        model=model_2_cpu,\n",
        "        loss_fn=loss_fn,\n",
        "        optimizer=optimizer,\n",
        "        accuracy_fn=accuracy_fn,\n",
        "        device=device\n",
        "    )\n",
        "    testing_loop(data_loader=test_dataloader,\n",
        "        model=model_2_cpu,\n",
        "        loss_fn=loss_fn,\n",
        "        accuracy_fn=accuracy_fn,\n",
        "        device=device\n",
        "    )\n",
        "\n",
        "train_time_end_model_2 = timer()\n",
        "total_train_time_model_2 = print_train_time(start=train_time_start_model_2,\n",
        "                                           end=train_time_end_model_2,\n",
        "                                           device=device)"
      ],
      "metadata": {
        "id": "jSo6vVWFbNLD",
        "outputId": "98497c31-73ed-4113-abce-4019a305bdff",
        "colab": {
          "base_uri": "https://localhost:8080/",
          "height": 500,
          "referenced_widgets": [
            "2901f103650e4a2180714205d0780654",
            "db004572cefd4ce5bf851e32c03f4d83",
            "dd1a0472425a47f6a46091d4be472c57",
            "5fb5e6b689ba4e7da3800244f09c9110",
            "253f4696cb464dedba9186296780584d",
            "12e5cde58a844db7a9ab6d7e40bbfa25",
            "0ce0b15a26724e5b883b6d7a33c37acd",
            "6c3c1453a5a2449fbee1fa1f3c60d124",
            "139272587b024a778dc909129773bc94",
            "0856d457fca647a0935dcea6cd14eaf2",
            "9ce0006d16e945e39d9bb9f4614923c2"
          ]
        }
      },
      "execution_count": 13,
      "outputs": [
        {
          "output_type": "display_data",
          "data": {
            "text/plain": [
              "  0%|          | 0/5 [00:00<?, ?it/s]"
            ],
            "application/vnd.jupyter.widget-view+json": {
              "version_major": 2,
              "version_minor": 0,
              "model_id": "2901f103650e4a2180714205d0780654"
            }
          },
          "metadata": {}
        },
        {
          "output_type": "stream",
          "name": "stdout",
          "text": [
            "Epoch: 0\n",
            "---------\n",
            "Train loss: 0.27947 | Train accuracy: 89.77%\n",
            "Test loss: 0.31189 | Test accuracy: 88.93%\n",
            "\n",
            "Epoch: 1\n",
            "---------\n",
            "Train loss: 0.27021 | Train accuracy: 90.22%\n",
            "Test loss: 0.29160 | Test accuracy: 89.36%\n",
            "\n",
            "Epoch: 2\n",
            "---------\n",
            "Train loss: 0.26334 | Train accuracy: 90.35%\n",
            "Test loss: 0.29547 | Test accuracy: 89.61%\n",
            "\n",
            "Epoch: 3\n",
            "---------\n",
            "Train loss: 0.25747 | Train accuracy: 90.58%\n",
            "Test loss: 0.29547 | Test accuracy: 89.35%\n",
            "\n",
            "Epoch: 4\n",
            "---------\n",
            "Train loss: 0.25372 | Train accuracy: 90.77%\n",
            "Test loss: 0.28990 | Test accuracy: 89.68%\n",
            "\n",
            "Train time on cpu: 235.832 seconds\n"
          ]
        }
      ]
    },
    {
      "cell_type": "markdown",
      "source": [
        "## 10. Make predictions using your trained model and visualize at least 5 of them comparing the prediciton to the target label."
      ],
      "metadata": {
        "id": "w1CsHhPpxp1w"
      }
    },
    {
      "cell_type": "code",
      "source": [
        "import random\n",
        "random.seed(42)\n",
        "test_samples = []\n",
        "test_labels = []\n",
        "\n",
        "def make_predictions(model: torch.nn.Module, data: list, device: torch.device = device):\n",
        "    pred_probs = []\n",
        "    model.eval()\n",
        "    with torch.inference_mode():\n",
        "        for sample in data:\n",
        "            # Prepare sample\n",
        "            sample = torch.unsqueeze(sample, dim=0).to(device)\n",
        "\n",
        "            # Forward pass\n",
        "            pred_logit = model(sample)\n",
        "\n",
        "            # Get prediction probability\n",
        "            pred_prob = torch.softmax(pred_logit.squeeze(), dim=0)\n",
        "\n",
        "            # Get pred_prob off GPU for further calculations\n",
        "            pred_probs.append(pred_prob.cpu())\n",
        "\n",
        "    # Stack the pred_probs to turn list into a tensor\n",
        "    return torch.stack(pred_probs)\n",
        "\n",
        "\n",
        "for sample, label in random.sample(list(test_data), k=15):\n",
        "    test_samples.append(sample)\n",
        "    test_labels.append(label)\n",
        "\n",
        "# Make predictions on test samples with model 2\n",
        "pred_probs= make_predictions(model=model_2_cpu,\n",
        "                             data=test_samples)\n",
        "\n",
        "\n",
        "# Turn the prediction probabilities into prediction labels by taking the argmax()\n",
        "pred_classes = pred_probs.argmax(dim=1)\n",
        "\n",
        "pred_classes, test_labels\n"
      ],
      "metadata": {
        "id": "_YGgZvSobNxu",
        "outputId": "83043883-07b5-48b0-e768-a0059b29a4e3",
        "colab": {
          "base_uri": "https://localhost:8080/"
        }
      },
      "execution_count": 14,
      "outputs": [
        {
          "output_type": "execute_result",
          "data": {
            "text/plain": [
              "(tensor([5, 1, 7, 4, 3, 0, 4, 7, 1, 9, 7, 2, 0, 1, 0]),\n",
              " [5, 1, 7, 4, 3, 0, 4, 7, 1, 9, 7, 2, 0, 1, 0])"
            ]
          },
          "metadata": {},
          "execution_count": 14
        }
      ]
    },
    {
      "cell_type": "code",
      "source": [
        "# Plot predictions\n",
        "plt.figure(figsize=(9, 9))\n",
        "nrows = 5\n",
        "ncols = 3\n",
        "for i, sample in enumerate(test_samples):\n",
        "  # Create a subplot\n",
        "  plt.subplot(nrows, ncols, i+1)\n",
        "\n",
        "  # Plot the target image\n",
        "  plt.imshow(sample.squeeze(), cmap=\"gray\")\n",
        "\n",
        "  # Find the prediction label (in text form, e.g. \"Sandal\")\n",
        "  pred_label = class_names[pred_classes[i]]\n",
        "\n",
        "  # Get the truth label (in text form, e.g. \"T-shirt\")\n",
        "  truth_label = class_names[test_labels[i]]\n",
        "\n",
        "  # Create the title text of the plot\n",
        "  title_text = f\"Pred: {pred_label} | Truth: {truth_label}\"\n",
        "\n",
        "  # Check for equality and change title colour accordingly\n",
        "  if pred_label == truth_label:\n",
        "      plt.title(title_text, fontsize=10, c=\"g\") # green text if correct\n",
        "  else:\n",
        "      plt.title(title_text, fontsize=10, c=\"r\") # red text if wrong\n",
        "  plt.axis(False);"
      ],
      "metadata": {
        "id": "gPGnJSCEt0p6",
        "outputId": "8c12e0db-94a7-4972-c8ed-6e82a10ddfd1",
        "colab": {
          "base_uri": "https://localhost:8080/",
          "height": 749
        }
      },
      "execution_count": 15,
      "outputs": [
        {
          "output_type": "display_data",
          "data": {
            "text/plain": [
              "<Figure size 900x900 with 15 Axes>"
            ],
            "image/png": "[encoded data removed]"
          },
          "metadata": {}
        }
      ]
    },
    {
      "cell_type": "markdown",
      "source": [
        "## 11. Plot a confusion matrix comparing your model's predictions to the truth labels."
      ],
      "metadata": {
        "id": "qQwzqlBWxrpG"
      }
    },
    {
      "cell_type": "code",
      "source": [
        "# 1. Make predictions with trained model\n",
        "y_preds = []\n",
        "model_2_cpu.eval()\n",
        "with torch.inference_mode():\n",
        "  for X, y in tqdm(test_dataloader, desc=\"Making predictions\"):\n",
        "    # Send data and targets to target device\n",
        "    X, y = X.to(device), y.to(device)\n",
        "    #forward pass\n",
        "    y_logit = model_2_cpu(X)\n",
        "    # Turn predictions to predictions labels\n",
        "    y_pred = torch.softmax(y_logit, dim=1).argmax(dim=1)\n",
        "\n",
        "    y_preds.append(y_pred.cpu())\n",
        "# Concatenate list of predictions into a tensor\n",
        "y_pred_tensor = torch.cat(y_preds)"
      ],
      "metadata": {
        "id": "vSrXiT_AbQ6e",
        "outputId": "46933c35-0f53-48d5-e833-5247ec4d52fb",
        "colab": {
          "base_uri": "https://localhost:8080/",
          "height": 49,
          "referenced_widgets": [
            "1f422250c6424eb7a3260994059ac7f4",
            "0b38fe890cfd4c2bb995a3c7df85e48c",
            "3cd4bdc2f2df4372ad32162eb270f4b2",
            "03e1f5d59129462eac725c101dbbbf06",
            "e12d2b0af18c4f1aa792f31cf6791673",
            "270b5874b2d449c9b541db036c41cd1c",
            "d6a866d9766c46cca4cb27c85837339f",
            "658fdc3bbdad431cbeff8f19934f8f7d",
            "7e40cd13964f4168b0a4372638c13c09",
            "46cf0dde79d84e0ebc8a95ea76833190",
            "c63fa810f2af4327ba6e7327eafe60f2"
          ]
        }
      },
      "execution_count": 16,
      "outputs": [
        {
          "output_type": "display_data",
          "data": {
            "text/plain": [
              "Making predictions:   0%|          | 0/313 [00:00<?, ?it/s]"
            ],
            "application/vnd.jupyter.widget-view+json": {
              "version_major": 2,
              "version_minor": 0,
              "model_id": "1f422250c6424eb7a3260994059ac7f4"
            }
          },
          "metadata": {}
        }
      ]
    },
    {
      "cell_type": "code",
      "source": [
        "# See if torchmetrics exists, if not, install it\n",
        "try:\n",
        "    import torchmetrics, mlxtend\n",
        "    print(f\"mlxtend version: {mlxtend.__version__}\")\n",
        "    assert int(mlxtend.__version__.split(\".\")[1]) >= 19, \"mlxtend verison should be 0.19.0 or higher\"\n",
        "except:\n",
        "    !pip install -q torchmetrics -U mlxtend # <- Note: If you're using Google Colab, this may require restarting the runtime\n",
        "    import torchmetrics, mlxtend\n",
        "    print(f\"mlxtend version: {mlxtend.__version__}\")\n",
        "\n",
        "# Import mlxtend upgraded version\n",
        "import mlxtend\n",
        "print(mlxtend.__version__)\n",
        "assert int(mlxtend.__version__.split(\".\")[1]) >= 19 # should be version 0.19.0 or higher"
      ],
      "metadata": {
        "id": "DSh-YxZcu1i1",
        "outputId": "818b77fb-8fea-4855-b954-55b2819d642c",
        "colab": {
          "base_uri": "https://localhost:8080/"
        }
      },
      "execution_count": 17,
      "outputs": [
        {
          "output_type": "stream",
          "name": "stdout",
          "text": [
            "\u001b[2K     \u001b[90m━━━━━━━━━━━━━━━━━━━━━━━━━━━━━━━━━━━━━━━━\u001b[0m \u001b[32m840.2/840.2 kB\u001b[0m \u001b[31m5.1 MB/s\u001b[0m eta \u001b[36m0:00:00\u001b[0m\n",
            "\u001b[2K     \u001b[90m━━━━━━━━━━━━━━━━━━━━━━━━━━━━━━━━━━━━━━━━\u001b[0m \u001b[32m1.4/1.4 MB\u001b[0m \u001b[31m26.1 MB/s\u001b[0m eta \u001b[36m0:00:00\u001b[0m\n",
            "\u001b[?25hmlxtend version: 0.23.1\n",
            "0.23.1\n"
          ]
        }
      ]
    },
    {
      "cell_type": "code",
      "source": [
        "from torchmetrics import ConfusionMatrix\n",
        "from mlxtend.plotting import plot_confusion_matrix\n",
        "\n",
        "# 2. Setup confusion matrix instance and compare predictions to targets\n",
        "confmat = ConfusionMatrix(num_classes=len(class_names), task='multiclass')\n",
        "confmat_tensor = confmat(preds=y_pred_tensor,\n",
        "                         target=test_data.targets)\n",
        "\n",
        "# 3. Plot the confusion matrix\n",
        "fig, ax = plot_confusion_matrix(\n",
        "    conf_mat=confmat_tensor.numpy(), # matplotlib likes working with NumPy\n",
        "    class_names=class_names, # turn the row and column labels into class names\n",
        "    figsize=(10, 7)\n",
        ");"
      ],
      "metadata": {
        "id": "moOgu1a_u1q-",
        "outputId": "5d8fc4b5-2923-401a-827b-b7a5c6aa87fc",
        "colab": {
          "base_uri": "https://localhost:8080/",
          "height": 667
        }
      },
      "execution_count": 18,
      "outputs": [
        {
          "output_type": "display_data",
          "data": {
            "text/plain": [
              "<Figure size 1000x700 with 1 Axes>"
            ],
            "image/png": "[encoded data removed]"
          },
          "metadata": {}
        }
      ]
    },
    {
      "cell_type": "markdown",
      "source": [
        "## 12. Create a random tensor of shape `[1, 3, 64, 64]` and pass it through a `nn.Conv2d()` layer with various hyperparameter settings (these can be any settings you choose), what do you notice if the `kernel_size` parameter goes up and down?"
      ],
      "metadata": {
        "id": "lj6bDhoWxt2y"
      }
    },
    {
      "cell_type": "code",
      "source": [
        "# create toy image\n",
        "img = torch.randn(size=(1, 3, 64, 64))\n",
        "\n",
        "# Create Conv2D layer\n",
        "print(img[:1])\n",
        "\n",
        "# kearnel size=5, stride=2, padding=1\n",
        "conv2d = nn.Conv2d(in_channels=3,\n",
        "                       out_channels=10,\n",
        "                       kernel_size=5,\n",
        "                       stride=2,\n",
        "                       padding=1)\n",
        "print(\"\\nThe conv2d implementation makes it\\n\")\n",
        "print(conv2d(img)[:1])"
      ],
      "metadata": {
        "id": "leCTsqtSbR5P",
        "outputId": "e7519d3d-e36f-43c8-e8c3-761887586523",
        "colab": {
          "base_uri": "https://localhost:8080/"
        }
      },
      "execution_count": 19,
      "outputs": [
        {
          "output_type": "stream",
          "name": "stdout",
          "text": [
            "tensor([[[[-2.2337e-01,  1.7174e+00,  3.1888e-01,  ...,  4.8354e-01,\n",
            "           -1.9756e-01,  1.2683e+00],\n",
            "          [ 7.8459e-01,  2.8647e-02,  6.4076e-01,  ...,  8.1234e-01,\n",
            "           -3.0628e-01, -3.3016e-01],\n",
            "          [ 2.4859e-02, -3.4595e-01,  2.8683e-01,  ...,  1.6896e+00,\n",
            "            2.1274e-02, -8.2927e-01],\n",
            "          ...,\n",
            "          [-1.0848e+00,  7.7880e-01, -6.4616e-01,  ...,  1.8795e+00,\n",
            "           -4.4449e-02, -5.3651e-01],\n",
            "          [-5.9529e-01,  3.5622e-01,  3.2401e-02,  ..., -9.5975e-01,\n",
            "           -1.4843e+00,  8.1555e-02],\n",
            "          [-3.6422e-01, -4.7195e-01, -7.3298e-01,  ...,  6.6347e-01,\n",
            "            2.2648e+00,  1.1145e+00]],\n",
            "\n",
            "         [[-8.0302e-01,  4.6447e-01, -1.7090e-01,  ..., -2.0158e-01,\n",
            "           -4.5202e-01, -1.7845e+00],\n",
            "          [-1.0557e+00,  1.2461e+00, -7.2459e-01,  ...,  7.6180e-01,\n",
            "           -2.2950e+00, -8.1860e-01],\n",
            "          [ 1.0682e+00, -2.6366e+00,  6.9544e-01,  ...,  9.0535e-01,\n",
            "           -8.6285e-01,  1.1450e-01],\n",
            "          ...,\n",
            "          [-7.4484e-01,  1.9110e+00,  3.2272e-01,  ...,  6.0209e-01,\n",
            "           -7.8417e-01,  4.1819e-01],\n",
            "          [-1.0024e+00, -2.2076e-01, -6.5252e-01,  ..., -8.7240e-01,\n",
            "            1.9123e+00,  8.1821e-01],\n",
            "          [-9.1780e-01, -2.1325e+00, -4.1317e-01,  ..., -6.7236e-01,\n",
            "           -2.3506e+00, -3.6136e-01]],\n",
            "\n",
            "         [[ 1.1137e-01, -2.8414e+00, -8.0563e-01,  ..., -5.7010e-01,\n",
            "            1.0431e+00, -8.8416e-01],\n",
            "          [-6.1285e-01, -1.1323e+00, -1.0010e-01,  ...,  3.1413e-01,\n",
            "            1.3642e+00, -1.3666e+00],\n",
            "          [ 1.6640e+00,  2.1912e+00, -9.7686e-01,  ..., -1.1405e-02,\n",
            "            2.2260e-01, -5.0631e-01],\n",
            "          ...,\n",
            "          [ 4.7002e-01,  1.5578e+00,  1.2392e+00,  ...,  5.7796e-01,\n",
            "            1.0603e+00,  1.0532e-01],\n",
            "          [ 7.5940e-01,  3.1724e-01, -2.8984e-01,  ...,  1.0934e-01,\n",
            "           -9.6779e-01, -4.4503e-01],\n",
            "          [ 1.0505e+00, -2.1213e-03, -5.6584e-01,  ...,  2.0457e+00,\n",
            "           -5.9608e-01,  1.7915e+00]]]])\n",
            "\n",
            "The conv2d implementation makes it\n",
            "\n",
            "tensor([[[[-8.2561e-01,  5.0362e-01,  5.0583e-01,  ...,  7.0352e-01,\n",
            "            3.2219e-02, -8.4931e-01],\n",
            "          [-1.2021e-01,  4.3245e-01,  4.0184e-01,  ...,  4.4892e-01,\n",
            "           -2.9287e-01, -4.6315e-01],\n",
            "          [-1.5583e-01,  9.6949e-01, -1.0425e+00,  ...,  3.0800e-01,\n",
            "            5.9073e-01, -8.8362e-01],\n",
            "          ...,\n",
            "          [-5.6543e-01,  4.3272e-01, -9.9376e-01,  ...,  3.0091e-01,\n",
            "            8.7328e-01, -6.2687e-01],\n",
            "          [ 3.5701e-01, -5.7813e-01,  6.7482e-01,  ...,  3.8448e-01,\n",
            "           -3.5668e-01,  9.8483e-01],\n",
            "          [ 3.1222e-02, -3.7006e-01, -2.9698e-01,  ..., -1.2906e+00,\n",
            "            2.4612e-01,  6.7453e-02]],\n",
            "\n",
            "         [[ 5.2059e-01, -2.4911e-01,  5.7340e-01,  ..., -2.8419e-01,\n",
            "            1.0009e-01, -1.4367e-01],\n",
            "          [ 2.6197e-01, -2.9961e-01, -2.0904e-01,  ..., -2.1755e-01,\n",
            "           -4.0744e-02, -3.4153e-01],\n",
            "          [ 5.4655e-01,  2.5413e-01, -4.2454e-01,  ..., -1.1423e+00,\n",
            "           -4.2684e-01,  6.1945e-01],\n",
            "          ...,\n",
            "          [ 3.1336e-01, -5.6162e-01, -6.2086e-01,  ..., -1.2325e-01,\n",
            "           -7.2690e-02,  2.6663e-02],\n",
            "          [ 6.1988e-02,  1.0064e+00,  1.9896e-01,  ...,  1.4558e-01,\n",
            "           -3.1574e-01,  2.4463e-01],\n",
            "          [ 5.4639e-01, -1.6001e-02,  9.1551e-01,  ...,  3.9839e-01,\n",
            "            2.7886e-01, -5.7089e-01]],\n",
            "\n",
            "         [[-3.4426e-01, -3.0552e-01, -1.0023e+00,  ..., -5.4520e-01,\n",
            "           -3.5049e-01,  5.7611e-02],\n",
            "          [ 4.2363e-01,  1.8480e-01, -2.1523e-02,  ..., -5.5105e-01,\n",
            "            5.8052e-02, -4.7055e-01],\n",
            "          [ 4.0367e-01,  8.7856e-01,  6.8029e-01,  ..., -5.1037e-01,\n",
            "            6.7487e-01,  3.7018e-02],\n",
            "          ...,\n",
            "          [ 1.1993e-01,  2.8183e-01, -5.2345e-01,  ..., -5.0622e-02,\n",
            "           -1.0665e+00, -8.5766e-01],\n",
            "          [-7.6603e-02,  3.8511e-01,  6.7908e-01,  ...,  1.4504e-01,\n",
            "            4.9427e-02, -6.2358e-01],\n",
            "          [ 5.0231e-01, -1.2232e+00,  1.2096e-01,  ...,  9.8363e-02,\n",
            "            7.8102e-01, -5.5980e-01]],\n",
            "\n",
            "         ...,\n",
            "\n",
            "         [[ 3.0503e-01,  6.6743e-02, -5.8410e-01,  ..., -5.7522e-01,\n",
            "            8.8019e-02, -2.8054e-02],\n",
            "          [-5.2690e-01, -4.4779e-01, -5.2227e-01,  ...,  6.6860e-02,\n",
            "            3.2958e-01, -1.8704e-01],\n",
            "          [-6.7409e-02, -2.3582e-01, -3.4309e-01,  ...,  9.3852e-01,\n",
            "            1.6460e-01,  9.7092e-01],\n",
            "          ...,\n",
            "          [-2.1031e-02, -7.4330e-01,  3.9508e-01,  ...,  3.5261e-01,\n",
            "            6.7424e-01,  1.8635e-01],\n",
            "          [ 1.6218e-01,  2.3979e-01,  9.2028e-01,  ..., -2.7178e-01,\n",
            "            1.6764e-01, -2.1328e-01],\n",
            "          [-5.8861e-02,  1.1150e+00,  4.2046e-01,  ..., -2.7979e-01,\n",
            "           -9.3085e-01, -9.3151e-01]],\n",
            "\n",
            "         [[-4.7339e-02,  2.1728e-02,  2.6376e-01,  ...,  2.5577e-01,\n",
            "           -5.0283e-01, -2.1777e-01],\n",
            "          [-1.5896e-01, -7.7221e-01, -3.7884e-01,  ..., -1.3377e-01,\n",
            "            1.4949e-01,  2.9954e-01],\n",
            "          [-5.9975e-01, -3.4740e-02, -1.3423e+00,  ..., -3.7347e-01,\n",
            "            1.0866e+00,  2.5881e-02],\n",
            "          ...,\n",
            "          [ 2.3669e-01,  4.6402e-02,  8.8010e-01,  ...,  2.9912e-01,\n",
            "           -2.1578e-01, -4.2705e-01],\n",
            "          [-6.1982e-02, -2.9315e-01, -2.0309e-01,  ..., -5.1347e-01,\n",
            "           -1.3069e+00,  5.8771e-01],\n",
            "          [-7.8852e-01,  4.7261e-02, -2.0735e-01,  ...,  3.6864e-01,\n",
            "            3.9910e-01, -1.8487e-01]],\n",
            "\n",
            "         [[ 1.3883e-03,  1.3911e+00, -7.3678e-01,  ...,  3.6332e-01,\n",
            "           -5.9801e-01,  9.0667e-02],\n",
            "          [-1.7657e-01,  3.6077e-01, -2.4762e-01,  ..., -5.4514e-01,\n",
            "           -6.1712e-01, -2.8269e-01],\n",
            "          [-6.9040e-01, -4.7834e-01,  9.3478e-01,  ..., -7.7130e-02,\n",
            "           -4.4539e-01, -1.2995e-01],\n",
            "          ...,\n",
            "          [-2.9319e-01, -9.5034e-02,  9.5854e-01,  ...,  3.0737e-01,\n",
            "            7.3899e-01, -7.7916e-01],\n",
            "          [-2.3420e-01, -1.7036e-01, -3.4224e-01,  ..., -1.1389e-01,\n",
            "            1.0271e-01, -1.5000e-01],\n",
            "          [-3.2974e-01,  9.4139e-02,  4.6459e-02,  ...,  3.3498e-01,\n",
            "            3.1108e-02, -8.5573e-02]]]], grad_fn=<SliceBackward0>)\n"
          ]
        }
      ]
    },
    {
      "cell_type": "code",
      "source": [
        "print(img[:1])\n",
        "\n",
        "# kearnel size=5, stride=2, padding=1\n",
        "conv2d = nn.Conv2d(in_channels=3,\n",
        "                       out_channels=10,\n",
        "                       kernel_size=7,\n",
        "                       stride=2,\n",
        "                       padding=1)\n",
        "print(\"\\nThe conv2d implementation makes it\\n\")\n",
        "print(conv2d(img)[:1])"
      ],
      "metadata": {
        "id": "gvS53mZI1iWc",
        "outputId": "8531a751-e69d-4f06-c3bc-1a13a1809860",
        "colab": {
          "base_uri": "https://localhost:8080/"
        }
      },
      "execution_count": 20,
      "outputs": [
        {
          "output_type": "stream",
          "name": "stdout",
          "text": [
            "tensor([[[[-2.2337e-01,  1.7174e+00,  3.1888e-01,  ...,  4.8354e-01,\n",
            "           -1.9756e-01,  1.2683e+00],\n",
            "          [ 7.8459e-01,  2.8647e-02,  6.4076e-01,  ...,  8.1234e-01,\n",
            "           -3.0628e-01, -3.3016e-01],\n",
            "          [ 2.4859e-02, -3.4595e-01,  2.8683e-01,  ...,  1.6896e+00,\n",
            "            2.1274e-02, -8.2927e-01],\n",
            "          ...,\n",
            "          [-1.0848e+00,  7.7880e-01, -6.4616e-01,  ...,  1.8795e+00,\n",
            "           -4.4449e-02, -5.3651e-01],\n",
            "          [-5.9529e-01,  3.5622e-01,  3.2401e-02,  ..., -9.5975e-01,\n",
            "           -1.4843e+00,  8.1555e-02],\n",
            "          [-3.6422e-01, -4.7195e-01, -7.3298e-01,  ...,  6.6347e-01,\n",
            "            2.2648e+00,  1.1145e+00]],\n",
            "\n",
            "         [[-8.0302e-01,  4.6447e-01, -1.7090e-01,  ..., -2.0158e-01,\n",
            "           -4.5202e-01, -1.7845e+00],\n",
            "          [-1.0557e+00,  1.2461e+00, -7.2459e-01,  ...,  7.6180e-01,\n",
            "           -2.2950e+00, -8.1860e-01],\n",
            "          [ 1.0682e+00, -2.6366e+00,  6.9544e-01,  ...,  9.0535e-01,\n",
            "           -8.6285e-01,  1.1450e-01],\n",
            "          ...,\n",
            "          [-7.4484e-01,  1.9110e+00,  3.2272e-01,  ...,  6.0209e-01,\n",
            "           -7.8417e-01,  4.1819e-01],\n",
            "          [-1.0024e+00, -2.2076e-01, -6.5252e-01,  ..., -8.7240e-01,\n",
            "            1.9123e+00,  8.1821e-01],\n",
            "          [-9.1780e-01, -2.1325e+00, -4.1317e-01,  ..., -6.7236e-01,\n",
            "           -2.3506e+00, -3.6136e-01]],\n",
            "\n",
            "         [[ 1.1137e-01, -2.8414e+00, -8.0563e-01,  ..., -5.7010e-01,\n",
            "            1.0431e+00, -8.8416e-01],\n",
            "          [-6.1285e-01, -1.1323e+00, -1.0010e-01,  ...,  3.1413e-01,\n",
            "            1.3642e+00, -1.3666e+00],\n",
            "          [ 1.6640e+00,  2.1912e+00, -9.7686e-01,  ..., -1.1405e-02,\n",
            "            2.2260e-01, -5.0631e-01],\n",
            "          ...,\n",
            "          [ 4.7002e-01,  1.5578e+00,  1.2392e+00,  ...,  5.7796e-01,\n",
            "            1.0603e+00,  1.0532e-01],\n",
            "          [ 7.5940e-01,  3.1724e-01, -2.8984e-01,  ...,  1.0934e-01,\n",
            "           -9.6779e-01, -4.4503e-01],\n",
            "          [ 1.0505e+00, -2.1213e-03, -5.6584e-01,  ...,  2.0457e+00,\n",
            "           -5.9608e-01,  1.7915e+00]]]])\n",
            "\n",
            "The conv2d implementation makes it\n",
            "\n",
            "tensor([[[[-9.7909e-01,  1.1042e+00,  4.1441e-01,  ...,  9.4075e-02,\n",
            "            7.8419e-01,  1.2049e+00],\n",
            "          [-3.3354e-01, -1.9955e-01,  2.7137e-02,  ..., -3.8151e-01,\n",
            "           -9.6479e-02, -6.7757e-01],\n",
            "          [ 2.7863e-01,  4.1612e-01,  1.6766e-01,  ..., -5.9840e-01,\n",
            "            7.7596e-03, -1.6364e-02],\n",
            "          ...,\n",
            "          [-3.3103e-01, -1.2803e-01,  1.3907e-01,  ..., -1.7514e-01,\n",
            "            1.8455e-01,  6.8820e-01],\n",
            "          [ 3.3778e-01, -5.6592e-01,  1.3957e-01,  ...,  3.5872e-01,\n",
            "           -4.4507e-01, -1.4976e+00],\n",
            "          [ 3.4587e-01,  1.0994e+00, -8.7615e-01,  ..., -1.3835e-01,\n",
            "            2.1063e-01, -1.0463e-01]],\n",
            "\n",
            "         [[-1.4628e-01, -1.5193e-01,  4.4993e-01,  ..., -9.4648e-01,\n",
            "           -2.0731e-01,  7.0500e-01],\n",
            "          [-2.9281e-01, -9.2971e-01,  4.5951e-01,  ...,  1.3864e-01,\n",
            "            2.6611e-01,  2.4958e-01],\n",
            "          [ 2.6886e-01, -9.7563e-02,  2.2088e-02,  ..., -1.1109e+00,\n",
            "           -4.9702e-01, -3.8407e-01],\n",
            "          ...,\n",
            "          [ 7.3512e-02, -4.1967e-01,  2.6572e-01,  ...,  3.5629e-01,\n",
            "            6.1209e-01, -5.0861e-01],\n",
            "          [-5.6229e-01, -2.6131e-01,  5.0947e-01,  ..., -5.3588e-01,\n",
            "            4.6627e-01, -6.3210e-01],\n",
            "          [ 5.1315e-01, -4.4092e-01,  1.5620e-01,  ..., -6.9794e-01,\n",
            "           -4.0173e-01,  4.7489e-02]],\n",
            "\n",
            "         [[ 1.5265e-01, -3.2511e-01,  3.8534e-01,  ..., -5.0284e-01,\n",
            "            3.6397e-01, -1.5742e+00],\n",
            "          [ 1.0703e-02, -9.7131e-02, -1.5676e-01,  ...,  4.0307e-01,\n",
            "            2.8703e-01, -9.7610e-01],\n",
            "          [-8.8676e-01, -1.8835e-01,  4.8773e-01,  ..., -1.0509e-03,\n",
            "            3.0705e-01,  1.4634e-01],\n",
            "          ...,\n",
            "          [-3.9463e-01,  3.0944e-01,  3.1251e-01,  ..., -4.8279e-01,\n",
            "           -2.7048e-01, -7.8438e-01],\n",
            "          [-1.0962e+00, -3.2705e-02, -1.5453e-02,  ..., -7.2154e-01,\n",
            "           -5.9310e-02, -4.6996e-01],\n",
            "          [ 1.6212e-01,  4.1564e-01,  1.8932e-01,  ..., -1.6072e-01,\n",
            "            5.4087e-01,  6.0847e-01]],\n",
            "\n",
            "         ...,\n",
            "\n",
            "         [[-4.5480e-01, -5.8644e-01,  7.1606e-01,  ..., -4.5582e-01,\n",
            "           -1.0130e-01, -6.5606e-01],\n",
            "          [ 7.8429e-01,  5.1647e-01, -4.5557e-01,  ...,  1.3863e-03,\n",
            "           -8.9024e-01, -2.1955e-01],\n",
            "          [ 3.4059e-01,  1.0227e+00,  3.4126e-01,  ..., -2.7074e-01,\n",
            "            4.2364e-02, -5.2460e-01],\n",
            "          ...,\n",
            "          [ 2.4866e-01,  7.2657e-01,  2.7376e-01,  ...,  7.6069e-02,\n",
            "            1.0465e-01, -7.4511e-02],\n",
            "          [-9.4026e-02,  3.6068e-02, -2.0518e-01,  ...,  5.2373e-03,\n",
            "           -2.2832e-01, -3.6281e-01],\n",
            "          [-1.1856e+00, -1.4347e-01, -5.8278e-01,  ...,  6.9207e-01,\n",
            "           -9.3263e-01, -1.2439e+00]],\n",
            "\n",
            "         [[ 2.7581e-01, -1.2021e-01, -2.8180e-01,  ...,  2.9750e-01,\n",
            "            3.0256e-01, -4.8939e-01],\n",
            "          [-2.2453e-01, -1.4219e+00,  7.6512e-01,  ...,  2.9723e-01,\n",
            "            5.9715e-01,  2.5980e-01],\n",
            "          [ 3.6279e-01, -4.7047e-01, -6.5942e-01,  ..., -1.8212e-02,\n",
            "           -1.1770e+00, -2.3387e-03],\n",
            "          ...,\n",
            "          [-2.2022e-01,  3.0577e-01, -3.8319e-01,  ...,  1.3269e-01,\n",
            "           -7.1561e-02,  2.8156e-01],\n",
            "          [ 6.3404e-02, -1.3202e-02, -5.0193e-01,  ...,  1.3617e-01,\n",
            "           -2.8794e-01, -2.5588e-02],\n",
            "          [ 4.9182e-01, -4.6141e-01, -3.1944e-01,  ...,  1.8365e-01,\n",
            "           -5.9561e-01, -5.8992e-01]],\n",
            "\n",
            "         [[-3.4904e-01,  1.4830e+00,  4.1454e-01,  ...,  9.5194e-02,\n",
            "           -3.3543e-01,  5.2559e-01],\n",
            "          [ 3.7951e-01,  1.5581e-01,  1.0591e+00,  ..., -4.5306e-01,\n",
            "            3.9327e-01, -3.2599e-01],\n",
            "          [-3.8549e-01, -1.3348e-01, -1.0255e+00,  ...,  3.4020e-02,\n",
            "            3.2124e-01,  3.4773e-01],\n",
            "          ...,\n",
            "          [ 1.0627e+00,  5.9492e-01,  9.3179e-02,  ...,  5.3747e-01,\n",
            "            5.4366e-02,  7.0986e-01],\n",
            "          [-4.6515e-01, -8.1465e-02, -1.2321e+00,  ...,  3.4321e-01,\n",
            "           -4.5612e-01, -3.3953e-01],\n",
            "          [ 1.1177e-02, -7.3111e-01, -1.3622e-01,  ...,  8.0181e-01,\n",
            "            1.4697e-01,  9.1327e-02]]]], grad_fn=<SliceBackward0>)\n"
          ]
        }
      ]
    },
    {
      "cell_type": "code",
      "source": [
        "print(img[:1])\n",
        "\n",
        "# kearnel size=5, stride=2, padding=1\n",
        "conv2d = nn.Conv2d(in_channels=3,\n",
        "                       out_channels=10,\n",
        "                       kernel_size=3,\n",
        "                       stride=2,\n",
        "                       padding=1)\n",
        "print(\"\\nThe conv2d implementation makes it\\n\")\n",
        "print(conv2d(img)[:1])"
      ],
      "metadata": {
        "id": "HDbckQOz10CB",
        "outputId": "29038074-efdd-4c69-c025-7a08fbe9decd",
        "colab": {
          "base_uri": "https://localhost:8080/"
        }
      },
      "execution_count": 28,
      "outputs": [
        {
          "output_type": "stream",
          "name": "stdout",
          "text": [
            "tensor([[[[ 0.9281, -0.7739,  0.7662,  ..., -0.9521, -0.1975,  0.3863],\n",
            "          [ 0.7328, -0.0837, -0.4086,  ..., -0.0497,  0.2005,  2.4254],\n",
            "          [-0.0272,  0.8478, -0.1659,  ...,  0.4141,  0.0567, -0.4779],\n",
            "          ...,\n",
            "          [-0.9012, -1.5319, -1.2441,  ..., -1.5140, -1.5745,  1.1079],\n",
            "          [-0.0358,  0.8764, -1.7333,  ...,  0.2546, -0.3857, -1.3129],\n",
            "          [-1.8466, -2.8978, -0.9321,  ..., -1.2873, -0.7573, -1.5616]],\n",
            "\n",
            "         [[ 0.3697, -0.0482,  0.0655,  ..., -0.6030,  0.5402,  0.5599],\n",
            "          [ 2.9643, -0.3025,  0.4871,  ...,  0.7485, -0.0201,  1.1465],\n",
            "          [-0.7852,  0.4210,  0.8919,  ..., -0.0274, -0.1052,  0.9033],\n",
            "          ...,\n",
            "          [-0.4535,  0.2509, -0.0051,  ..., -1.3216, -0.9094,  0.5703],\n",
            "          [-0.2559,  1.6421,  0.8889,  ..., -0.5692, -0.9343,  0.5553],\n",
            "          [ 1.6487, -0.5109,  0.0079,  ..., -0.7469,  0.7839,  0.4906]],\n",
            "\n",
            "         [[-0.8900,  1.0773, -0.4623,  ...,  0.6284, -2.1643,  0.9505],\n",
            "          [ 0.5773,  1.3111, -0.6268,  ..., -1.2990,  0.8658,  0.9058],\n",
            "          [-0.4369,  1.5562, -0.7209,  ...,  2.0608,  0.0767,  1.0745],\n",
            "          ...,\n",
            "          [-0.1528, -1.0282,  0.5893,  ..., -1.6180,  0.0238, -0.9929],\n",
            "          [ 0.8928, -0.7134,  0.7344,  ..., -0.8236, -0.2984, -1.1247],\n",
            "          [-0.9412, -2.4535,  0.3809,  ..., -0.9119,  1.1493, -0.6078]]]])\n",
            "\n",
            "The conv2d implementation makes it\n",
            "\n",
            "tensor([[[[-0.2828,  0.3149, -0.2870,  ...,  0.3258, -0.5504, -0.4297],\n",
            "          [-0.8833, -0.0868,  0.4928,  ..., -0.5547, -0.3331,  0.5169],\n",
            "          [ 0.7672, -0.5404,  0.3369,  ..., -0.9291, -1.1139,  0.1551],\n",
            "          ...,\n",
            "          [ 0.1006, -1.2607, -0.1740,  ...,  0.1832, -0.8785,  1.2283],\n",
            "          [ 0.3294,  0.5476, -0.7885,  ...,  0.4923, -0.8683,  0.9963],\n",
            "          [ 1.3602,  0.0426, -0.3759,  ..., -0.1185,  0.3250,  0.5213]],\n",
            "\n",
            "         [[ 0.3840,  0.7576,  0.0631,  ...,  0.2019, -0.2579, -0.5702],\n",
            "          [-0.4138, -0.2295,  0.4974,  ..., -0.2115,  0.4130,  1.0354],\n",
            "          [ 0.9366,  0.3681, -0.3865,  ...,  0.0925,  0.2378, -0.6012],\n",
            "          ...,\n",
            "          [-0.1597, -0.0594,  0.5193,  ...,  0.5679,  0.2909,  0.3533],\n",
            "          [ 0.4871,  1.0724,  0.1059,  ...,  0.1923,  0.5258,  0.3688],\n",
            "          [ 1.0054,  0.7130, -0.5525,  ...,  0.4356,  0.0881,  0.3853]],\n",
            "\n",
            "         [[-0.1220,  0.1598,  0.1472,  ...,  0.1954,  0.6068, -0.7531],\n",
            "          [-0.2105,  0.6654, -0.0100,  ..., -0.3656,  0.1896,  0.2583],\n",
            "          [ 0.9868, -0.7978,  0.3322,  ...,  0.2946,  1.6032, -1.3530],\n",
            "          ...,\n",
            "          [-0.4087,  0.3877,  0.2240,  ..., -0.1905,  0.0799,  0.5227],\n",
            "          [ 0.8243, -0.3817,  0.3367,  ..., -0.2428,  1.4778, -0.0494],\n",
            "          [ 1.2174,  0.2761, -0.4504,  ...,  1.0551, -0.1240,  0.2130]],\n",
            "\n",
            "         ...,\n",
            "\n",
            "         [[ 0.2960,  0.1061,  0.0533,  ...,  0.5269, -0.1529,  0.4740],\n",
            "          [ 0.8458, -0.4706, -0.3373,  ...,  0.1420,  0.4162,  0.7805],\n",
            "          [ 0.0724, -0.0697,  0.2797,  ..., -0.0299, -0.8023,  0.4453],\n",
            "          ...,\n",
            "          [ 0.5223,  0.7003,  0.0070,  ..., -0.4298, -0.0361, -0.1649],\n",
            "          [ 0.2928, -0.2296,  0.5109,  ...,  0.6060,  0.1680, -0.0461],\n",
            "          [-0.3234,  0.0637, -0.2591,  ..., -0.8441, -1.1708,  0.2819]],\n",
            "\n",
            "         [[ 0.7845,  0.2834,  0.1090,  ...,  0.2061, -0.0681, -0.0079],\n",
            "          [ 0.0046, -0.3933,  0.3347,  ...,  0.0104,  0.1589,  0.4994],\n",
            "          [ 0.3814,  0.0219,  0.3455,  ..., -0.5615, -0.0720, -0.2493],\n",
            "          ...,\n",
            "          [-0.3307, -0.1329, -0.4590,  ...,  1.0127,  0.8480, -0.0884],\n",
            "          [-0.2289, -0.3806, -0.2599,  ...,  0.1384, -0.4651, -0.4165],\n",
            "          [ 0.3408, -0.3841,  0.7123,  ..., -0.7969,  0.4416,  0.5976]],\n",
            "\n",
            "         [[ 0.0274, -0.1909,  0.4309,  ..., -0.1744, -0.1475, -0.7145],\n",
            "          [-0.1458, -0.0293, -0.8453,  ..., -0.2452, -0.7598,  0.2783],\n",
            "          [-0.7891,  0.3630, -0.1052,  ..., -0.7760, -0.3737, -0.0737],\n",
            "          ...,\n",
            "          [-0.7755, -0.6803,  0.4823,  ...,  0.8158,  0.7016,  0.4728],\n",
            "          [-0.0767,  0.3355, -0.9920,  ..., -0.3993,  0.0345, -0.1726],\n",
            "          [ 0.0418,  0.5192,  0.7833,  ..., -0.1111, -0.5506, -0.1287]]]],\n",
            "       grad_fn=<SliceBackward0>)\n"
          ]
        }
      ]
    },
    {
      "cell_type": "code",
      "source": [
        "print(img[:1][0][0])\n",
        "\n",
        "# kearnel size=5, stride=2, padding=1\n",
        "conv2d = nn.Conv2d(in_channels=3,\n",
        "                       out_channels=10,\n",
        "                       kernel_size=12,\n",
        "                       stride=2,\n",
        "                       padding=1)\n",
        "print(\"\\nThe conv2d implementation makes it\\n\")\n",
        "print(conv2d(img)[:1][0][0])"
      ],
      "metadata": {
        "id": "9WewJJqC18q9",
        "outputId": "d33d4bc3-235d-466d-8ebd-b01750242ae3",
        "colab": {
          "base_uri": "https://localhost:8080/"
        }
      },
      "execution_count": 31,
      "outputs": [
        {
          "output_type": "stream",
          "name": "stdout",
          "text": [
            "tensor([[ 0.9281, -0.7739,  0.7662,  ..., -0.9521, -0.1975,  0.3863],\n",
            "        [ 0.7328, -0.0837, -0.4086,  ..., -0.0497,  0.2005,  2.4254],\n",
            "        [-0.0272,  0.8478, -0.1659,  ...,  0.4141,  0.0567, -0.4779],\n",
            "        ...,\n",
            "        [-0.9012, -1.5319, -1.2441,  ..., -1.5140, -1.5745,  1.1079],\n",
            "        [-0.0358,  0.8764, -1.7333,  ...,  0.2546, -0.3857, -1.3129],\n",
            "        [-1.8466, -2.8978, -0.9321,  ..., -1.2873, -0.7573, -1.5616]])\n",
            "\n",
            "The conv2d implementation makes it\n",
            "\n",
            "tensor([[-1.6224e-01,  6.6881e-01,  5.0517e-02,  6.3520e-01, -2.5311e-01,\n",
            "          5.3638e-01,  2.2624e-01,  4.7893e-01,  1.0508e-01, -1.1845e+00,\n",
            "          5.0011e-01, -1.0369e-01, -2.2234e-01, -3.7340e-01, -9.2120e-01,\n",
            "         -6.0886e-01, -9.4018e-02,  2.6732e-01, -6.0797e-01,  1.0939e-01,\n",
            "         -1.6387e-01, -5.0911e-02,  4.8617e-01, -5.0419e-01,  2.0083e-01,\n",
            "         -8.4449e-01,  5.2635e-01,  2.5985e-01],\n",
            "        [-8.0264e-01, -1.5589e-01, -5.9108e-01,  4.4807e-01,  5.9844e-01,\n",
            "         -3.6961e-01,  5.3825e-01,  2.7754e-01,  5.4823e-01, -7.0696e-01,\n",
            "          3.6379e-01,  1.1583e-03,  1.6840e+00,  7.9969e-01, -9.1075e-01,\n",
            "          7.4416e-01, -6.9054e-02,  9.5150e-02,  1.0577e-01,  8.3325e-01,\n",
            "          5.6258e-01, -4.5091e-01, -2.9224e-01, -3.4452e-01,  5.9140e-01,\n",
            "          5.6836e-01, -3.8783e-01,  5.8977e-01],\n",
            "        [ 6.2659e-01,  9.2782e-01,  2.7821e-01,  7.1538e-01,  1.2382e-01,\n",
            "         -4.9470e-01,  6.5693e-01, -1.1976e-01, -1.8465e-01,  4.0060e-01,\n",
            "         -7.1458e-01, -3.8577e-01,  1.1431e+00,  9.3563e-01,  9.0259e-01,\n",
            "          2.0630e-01,  1.1355e-02,  4.0296e-01, -6.3594e-01,  7.1576e-02,\n",
            "         -7.1151e-02, -8.2095e-01,  3.8467e-01, -1.1900e+00, -6.8668e-01,\n",
            "          1.6769e+00,  9.6794e-02,  2.4965e-02],\n",
            "        [-2.1291e-01, -4.9903e-01, -1.9532e-01,  4.1368e-01,  1.2236e-01,\n",
            "          3.0422e-01, -6.8607e-03, -1.1850e+00, -2.8067e-01,  6.5258e-01,\n",
            "          8.5426e-02,  7.1886e-01,  9.4410e-01, -5.3961e-01,  3.3501e-01,\n",
            "         -5.9390e-01, -1.1604e-01,  1.7482e-01,  5.2532e-01, -8.7727e-01,\n",
            "          2.8868e-01, -2.2328e-01,  3.4109e-01, -2.9814e-01, -6.3296e-01,\n",
            "          2.5174e-01,  3.4525e-01, -7.8648e-01],\n",
            "        [ 1.0820e+00, -1.1992e-01, -1.1747e+00, -7.9279e-01,  6.6019e-01,\n",
            "          5.6433e-01, -5.6808e-02,  1.2632e-01,  7.4662e-01, -8.3917e-01,\n",
            "          4.2069e-01,  8.3023e-01, -1.5335e-01, -1.3027e+00, -6.2943e-01,\n",
            "          3.5690e-01, -5.0804e-01,  8.5450e-02, -7.1544e-01, -8.6941e-01,\n",
            "          2.6293e-01,  2.2465e-01, -1.1378e+00, -3.1926e-01, -1.4826e+00,\n",
            "          4.9619e-01, -5.0322e-01, -1.0905e-01],\n",
            "        [-3.4430e-01,  8.4517e-01, -1.7870e-02, -2.0505e+00, -6.3703e-01,\n",
            "          5.2400e-01,  2.5341e-01, -7.8573e-02, -1.6017e+00, -5.8650e-01,\n",
            "         -6.8136e-01, -1.9563e-01,  3.2362e-01, -3.6325e-01, -4.4271e-01,\n",
            "         -4.8412e-01,  1.2390e+00, -1.0747e+00,  8.3334e-02,  4.8987e-01,\n",
            "         -2.3446e-01,  2.6646e-01, -9.5438e-01,  2.9363e-01, -1.3887e-01,\n",
            "          1.8140e-01,  3.2176e-01,  1.6605e-01],\n",
            "        [ 4.2288e-01,  6.7592e-01,  6.4823e-01, -4.7889e-01,  2.6929e-01,\n",
            "          3.1698e-01, -3.8235e-03,  6.1455e-01, -2.6842e-01, -3.5577e-02,\n",
            "         -7.8731e-01, -1.2746e+00, -1.0286e+00,  1.2223e+00,  1.6058e-02,\n",
            "         -7.2758e-01,  8.6672e-02, -2.7349e-01,  4.3238e-01, -6.4608e-01,\n",
            "         -4.8479e-01,  2.3991e-01, -8.0835e-02, -1.0875e+00, -6.1529e-01,\n",
            "          4.6826e-01,  7.7361e-01,  7.9391e-01],\n",
            "        [ 2.7013e-01, -6.9619e-01,  2.0668e-01,  4.6208e-02,  2.9575e-01,\n",
            "         -7.1788e-01, -4.3176e-01,  1.7744e-01,  2.5357e-01,  5.4552e-01,\n",
            "          4.8732e-01,  7.3686e-03,  1.7944e-01, -2.3519e-01,  3.5492e-01,\n",
            "         -5.8574e-01, -6.7318e-01,  1.7035e-01, -9.1059e-01,  7.3752e-01,\n",
            "         -4.8463e-01, -1.4646e-01,  6.1925e-01,  9.0588e-03,  9.0436e-01,\n",
            "          7.2663e-02,  1.0932e-01,  2.7891e-01],\n",
            "        [ 3.7288e-01, -2.6728e-01,  2.7571e-01, -6.4512e-01,  4.5759e-01,\n",
            "          4.2794e-01, -1.0271e+00,  1.1572e+00,  8.0343e-02, -3.6868e-01,\n",
            "         -1.7102e-01,  1.2897e-01, -3.0107e-01, -1.2222e+00,  1.1307e+00,\n",
            "         -4.9494e-02,  3.5135e-01, -4.7562e-01,  7.9768e-01, -1.2619e-02,\n",
            "          7.0273e-01,  2.9654e-01, -3.2257e-01,  1.3539e-01,  2.7887e-01,\n",
            "          6.9023e-01,  9.1719e-02, -4.4189e-01],\n",
            "        [ 2.8384e-01,  7.6127e-01, -3.9228e-01, -5.3315e-01,  1.3286e+00,\n",
            "          1.3771e+00,  9.7978e-01, -5.2840e-01, -3.0507e-01, -1.7034e-01,\n",
            "          9.1426e-02,  2.4499e-01, -1.9496e-02,  5.9538e-01, -4.6466e-01,\n",
            "          1.2266e+00, -3.0835e-01,  6.5324e-02,  4.6423e-01,  3.9886e-01,\n",
            "          4.7696e-01, -2.9097e-01,  5.3702e-01,  2.3785e-01, -2.4238e-01,\n",
            "         -5.8493e-02,  2.6787e-01,  4.8946e-01],\n",
            "        [ 5.4910e-02,  4.5952e-01, -1.0417e+00,  9.3177e-01, -3.3506e-01,\n",
            "         -3.8446e-01,  4.9222e-01, -1.0698e-01,  1.1659e+00, -1.9108e+00,\n",
            "          9.1183e-01,  1.4316e+00,  2.4330e-01, -2.4978e-01,  7.1017e-01,\n",
            "         -3.0847e-01,  6.7206e-01,  3.5695e-01, -4.5885e-01,  3.5769e-01,\n",
            "          5.6967e-01, -7.0261e-01, -2.5897e-02,  2.2869e-01, -7.2326e-01,\n",
            "         -9.3038e-01, -7.7529e-01,  3.4950e-01],\n",
            "        [-4.3253e-01, -1.6687e+00,  6.0088e-01,  1.6590e-01,  7.6852e-01,\n",
            "         -8.3530e-01,  1.1854e+00, -4.5192e-01, -4.2863e-01,  5.2475e-01,\n",
            "         -1.2518e-01, -2.9191e-01, -1.3389e-01, -6.7881e-02, -6.8523e-01,\n",
            "          4.9664e-01,  3.1667e-01,  3.6312e-01,  4.4187e-01, -1.1824e+00,\n",
            "         -4.0293e-01, -2.5632e-01, -7.8853e-01, -7.6022e-01, -3.6913e-01,\n",
            "         -8.2842e-01, -8.5557e-01,  1.6764e-01],\n",
            "        [ 2.4816e-01, -7.8116e-01, -8.6062e-01,  7.5607e-01,  7.2838e-01,\n",
            "         -2.3977e-01,  4.6339e-02,  1.9757e-01, -3.3064e-01,  3.4294e-01,\n",
            "          1.5497e+00, -2.4667e-01,  9.9694e-01, -5.8239e-01, -5.8906e-01,\n",
            "         -5.5169e-02,  3.5726e-02,  3.4006e-01,  2.7361e-01, -8.7817e-02,\n",
            "         -5.9430e-01,  3.5666e-01,  5.4163e-01, -4.6419e-02, -6.4887e-02,\n",
            "         -9.8898e-01,  8.9866e-01,  1.4698e-01],\n",
            "        [ 2.0772e-01,  3.4110e-01, -2.0439e-01,  4.6449e-01,  4.6132e-01,\n",
            "          7.5845e-01, -7.8384e-01,  7.4103e-01, -3.3882e-02, -1.0678e-01,\n",
            "         -2.2309e-01, -7.4953e-01,  5.5162e-01,  2.4538e-01,  1.4347e+00,\n",
            "          1.0271e-01, -5.1590e-01,  4.1715e-01,  3.6310e-02,  2.8568e-01,\n",
            "         -7.3281e-01,  1.2357e+00, -4.2001e-01, -4.6370e-02,  6.2858e-01,\n",
            "          1.0873e+00,  7.3926e-01, -7.3715e-01],\n",
            "        [ 3.8205e-01, -6.7886e-01,  1.5466e-01,  1.0395e+00,  2.8000e-01,\n",
            "          4.7565e-01, -7.5028e-02, -9.0078e-02, -4.4117e-01,  1.6299e-02,\n",
            "          1.4688e-01, -4.1170e-01,  4.4773e-02,  2.4906e-01,  7.2714e-01,\n",
            "         -5.5109e-02, -3.0544e-01,  4.9555e-01,  9.6581e-01,  8.2719e-01,\n",
            "         -9.6424e-02,  5.3603e-01,  9.3985e-01,  5.8971e-01, -1.0472e+00,\n",
            "          4.6526e-01,  9.0859e-01, -4.5043e-01],\n",
            "        [ 6.3776e-01, -1.7424e-01, -1.4998e+00,  1.4417e+00, -4.8325e-01,\n",
            "          2.3994e-01, -4.9674e-02, -5.4551e-01,  4.3529e-01,  8.7671e-01,\n",
            "         -4.2395e-01, -2.1851e-01,  2.4269e-01,  9.7132e-01,  1.2338e-01,\n",
            "          1.0140e-01,  3.4178e-01, -3.8586e-02, -2.1133e-01, -1.3693e-01,\n",
            "          3.2943e-01, -1.4249e-01, -8.7965e-01, -2.0988e-01,  4.3247e-02,\n",
            "         -3.8339e-01, -1.0998e+00,  4.3218e-01],\n",
            "        [-9.2094e-01,  5.6801e-01, -1.4448e+00,  2.1219e-03,  1.9913e-01,\n",
            "         -4.1435e-01, -1.9123e-01, -4.8389e-01,  6.7647e-01, -4.6486e-01,\n",
            "          1.1001e+00, -1.2602e+00,  6.4776e-01,  9.2319e-01,  5.9712e-01,\n",
            "          1.0745e-01, -1.6460e-01, -1.3181e-01, -6.4232e-01,  7.6068e-01,\n",
            "         -1.2860e+00,  4.6119e-02, -6.4179e-01, -3.0521e-01, -4.7959e-01,\n",
            "         -6.1864e-02,  2.9179e-01,  2.5879e-01],\n",
            "        [-5.8744e-01, -3.6975e-01, -4.5152e-03,  4.8544e-01, -6.1258e-01,\n",
            "         -5.2755e-01,  2.4042e-01,  5.1776e-01, -9.8823e-01, -3.7480e-01,\n",
            "          1.5784e-01,  2.4627e-01,  7.9472e-01,  6.6446e-01, -2.7447e-01,\n",
            "          5.5497e-01, -1.9663e-01, -5.8318e-01,  3.6009e-01,  1.5210e-01,\n",
            "          7.7872e-01, -3.8276e-02, -4.4446e-01, -2.5628e-01,  1.3636e-01,\n",
            "         -1.4417e-01,  6.6338e-01,  1.1888e+00],\n",
            "        [ 1.3162e-01, -5.8583e-01, -2.0825e-01,  1.9993e-01,  4.3825e-01,\n",
            "         -2.7311e-02,  4.3453e-01,  2.7920e-01, -6.4561e-02,  4.1913e-01,\n",
            "          5.1321e-02,  6.6763e-01,  5.3066e-01,  2.5848e-01,  1.1729e-01,\n",
            "          7.7692e-03, -1.2817e-01,  2.0126e-01, -1.8293e-01,  8.5856e-02,\n",
            "         -2.7822e-01, -1.4324e-01,  3.2329e-01,  2.0679e-01, -5.3555e-01,\n",
            "         -3.7948e-01,  3.2927e-01,  4.7004e-01],\n",
            "        [-3.3065e-01,  1.7044e-01, -4.6518e-01,  9.9183e-01, -2.2898e-01,\n",
            "          2.4417e-01, -8.1876e-01,  1.2755e-01, -6.5198e-01, -8.2544e-02,\n",
            "         -3.0709e-01, -3.1789e-02,  4.7732e-02, -1.6724e-01, -4.8980e-01,\n",
            "         -3.2353e-01,  2.5132e-01,  6.3717e-01,  2.7767e-01, -5.9004e-01,\n",
            "         -3.8807e-02, -1.3887e-01,  6.8903e-02, -2.1607e-01, -7.9147e-01,\n",
            "          4.8574e-01, -9.2861e-01,  1.0392e+00],\n",
            "        [-2.6509e-01,  1.5433e+00,  1.4350e+00, -2.8048e-01, -6.4035e-01,\n",
            "         -6.9242e-02, -9.0791e-01,  5.7563e-01, -6.9233e-01, -8.6469e-01,\n",
            "          6.2627e-01,  2.5351e-01, -1.2906e-01, -4.5691e-01,  7.5302e-01,\n",
            "         -5.3046e-02,  2.3559e-01, -2.0546e-01, -7.7646e-01,  3.5494e-02,\n",
            "          4.8707e-01, -4.2708e-01,  1.3238e+00,  2.7840e-01,  1.8153e-01,\n",
            "          1.4231e+00, -1.5200e-01, -2.7421e-01],\n",
            "        [-3.2620e-01,  4.9845e-01,  1.2474e+00, -6.4903e-01,  4.5135e-01,\n",
            "         -1.0938e+00,  7.7893e-01,  7.0597e-01, -1.1108e+00,  4.6021e-01,\n",
            "          3.3969e-01,  1.3178e-02, -6.5258e-01, -1.1838e-01,  5.4094e-01,\n",
            "          1.5279e-03, -8.7528e-01,  2.2441e-02, -2.2906e-02, -4.1108e-01,\n",
            "          1.0069e+00,  8.5083e-01, -5.8581e-01, -5.3985e-01, -9.2542e-01,\n",
            "         -6.5631e-01,  7.7824e-01, -3.6733e-01],\n",
            "        [-1.4750e-01,  3.5725e-01,  3.6088e-02, -5.8805e-01,  8.5618e-01,\n",
            "         -6.2893e-01,  1.1284e+00,  1.6532e-01, -5.0796e-01,  7.8884e-01,\n",
            "         -6.4170e-01,  1.1572e+00,  2.0959e-01,  7.5262e-01,  6.2220e-01,\n",
            "          5.1943e-01,  2.0565e-01, -4.3193e-01, -2.9870e-01,  1.4455e-02,\n",
            "          1.8869e-01,  7.3085e-02, -1.3762e+00, -8.9337e-02, -7.9328e-02,\n",
            "         -1.2514e+00,  2.9594e-01, -1.7399e-01],\n",
            "        [ 5.2932e-01, -8.7521e-01, -5.2951e-01, -9.2887e-02,  7.7197e-01,\n",
            "         -5.0167e-01,  9.0720e-01, -1.7383e-01, -1.2618e-01,  1.1279e+00,\n",
            "         -3.7245e-01,  6.9902e-01, -8.1866e-01,  6.1842e-02, -4.7256e-01,\n",
            "          1.3618e-01,  5.5494e-01,  6.3186e-02,  1.6309e-01,  3.5141e-01,\n",
            "         -4.5038e-01, -9.2347e-02, -1.7897e+00, -6.3304e-01, -6.8827e-01,\n",
            "          4.5242e-01, -6.3185e-01,  9.4808e-01],\n",
            "        [-4.3587e-01,  8.7745e-02, -3.5096e-01, -1.5560e-01, -2.1580e-01,\n",
            "         -9.9570e-02, -7.6512e-01, -1.5837e-01, -5.0337e-01,  1.7609e+00,\n",
            "          7.2719e-01, -3.7858e-02, -3.0714e-01,  8.8060e-01,  9.2269e-01,\n",
            "          6.3720e-02, -4.0004e-01,  1.3790e-01,  8.1120e-03, -1.6178e-01,\n",
            "          8.7857e-02,  1.8440e-01,  1.0680e+00, -6.8658e-01,  6.0481e-01,\n",
            "          9.6214e-01,  7.4385e-02,  6.3833e-01],\n",
            "        [-9.0903e-01,  8.5405e-01, -5.8125e-03,  3.6473e-01,  2.3214e-01,\n",
            "          7.5932e-01, -2.5812e-01,  3.1503e-02, -2.6968e-01, -2.4844e-01,\n",
            "          1.4126e+00, -2.5384e-01,  6.1833e-02, -6.1597e-01,  1.0088e+00,\n",
            "         -2.1714e-01,  2.1702e-01,  6.3769e-02, -7.0048e-02,  1.4360e+00,\n",
            "          1.5401e-01, -5.9283e-01,  6.9998e-01, -4.4737e-01,  3.9805e-01,\n",
            "          2.9645e-01, -7.7526e-01,  2.0558e-01],\n",
            "        [ 1.5148e-01,  6.7655e-02,  6.1644e-01, -7.0730e-01, -3.4377e-01,\n",
            "         -3.4074e-01, -1.1560e+00, -7.1236e-01,  1.7045e-01,  4.5588e-01,\n",
            "          2.3215e-01, -1.2008e-01,  6.5946e-01, -1.7097e+00, -3.1999e-01,\n",
            "          4.4720e-01,  5.3275e-03,  3.2255e-01,  5.6358e-02, -2.5802e-01,\n",
            "          1.0385e+00, -3.4864e-01, -5.3328e-01,  2.2947e-02,  6.1946e-01,\n",
            "          6.0797e-01,  2.5336e-01,  5.7850e-01],\n",
            "        [ 3.4041e-01,  2.1151e-01,  3.5074e-01, -9.5041e-01,  9.5105e-03,\n",
            "         -2.0261e-01,  1.4512e-01,  1.4349e-02,  2.8686e-01,  4.3582e-01,\n",
            "         -7.2928e-01, -1.0073e+00,  7.7437e-01, -1.1004e-01, -9.9991e-01,\n",
            "          3.5020e-01, -1.9920e-02, -5.4654e-02, -7.1586e-01,  5.1797e-01,\n",
            "          9.6294e-02, -9.4733e-01,  6.6246e-01, -5.3210e-01,  6.9866e-01,\n",
            "         -6.9736e-01,  6.1041e-01, -5.6441e-01]], grad_fn=<SelectBackward0>)\n"
          ]
        }
      ]
    },
    {
      "cell_type": "markdown",
      "source": [
        "## 13. Use a model similar to the trained `model_2` from notebook 03 to make predictions on the test [`torchvision.datasets.FashionMNIST`](https://pytorch.org/vision/main/generated/torchvision.datasets.FashionMNIST.html) dataset.\n",
        "* Then plot some predictions where the model was wrong alongside what the label of the image should've been.\n",
        "* After visualing these predictions do you think it's more of a modelling error or a data error?\n",
        "* As in, could the model do better or are the labels of the data too close to each other (e.g. a \"Shirt\" label is too close to \"T-shirt/top\")?"
      ],
      "metadata": {
        "id": "VHS20cNTxwSi"
      }
    },
    {
      "cell_type": "code",
      "source": [],
      "metadata": {
        "id": "znO8IJ8b16FG"
      },
      "execution_count": null,
      "outputs": []
    },
    {
      "cell_type": "code",
      "source": [
        "class FashionMNIST(nn.Module):\n",
        "\n",
        "    def __init__(self, input_shape: int, hidden_units: int, output_shape: int):\n",
        "        super().__init__()\n",
        "        self.block_1 = nn.Sequential(\n",
        "            nn.Conv2d(in_channels=input_shape,\n",
        "                      out_channels=hidden_units,\n",
        "                      kernel_size=3, # how big is the square that's going over the image?\n",
        "                      stride=1, # default\n",
        "                      padding=1),# options = \"valid\" (no padding) or \"same\" (output has same shape as input) or int for specific number\n",
        "            nn.ReLU(),\n",
        "            nn.Conv2d(in_channels=hidden_units,\n",
        "                      out_channels=hidden_units,\n",
        "                      kernel_size=3,\n",
        "                      stride=1,\n",
        "                      padding=1),\n",
        "            nn.ReLU(),\n",
        "            nn.MaxPool2d(kernel_size=2,\n",
        "                         stride=2) # default stride value is same as kernel_size\n",
        "        )\n",
        "        self.block_2 = nn.Sequential(\n",
        "            nn.Conv2d(hidden_units, hidden_units, 3, padding=1),\n",
        "            nn.ReLU(),\n",
        "            nn.Conv2d(hidden_units, hidden_units, 3, padding=1),\n",
        "            nn.Conv2d(hidden_units, hidden_units, 3, padding=1),\n",
        "            nn.ReLU(),\n",
        "            nn.MaxPool2d(2)\n",
        "        )\n",
        "        self.block_3 = nn.Sequential(\n",
        "            nn.Conv2d(hidden_units, hidden_units, 3, padding=1),\n",
        "            nn.Conv2d(hidden_units, hidden_units, 3, padding=1),\n",
        "            nn.ReLU(),\n",
        "            nn.Conv2d(hidden_units, hidden_units, 3, padding=1),\n",
        "            nn.Conv2d(hidden_units, hidden_units, 3, padding=1),\n",
        "\n",
        "        )\n",
        "        self.classifier = nn.Sequential(\n",
        "            nn.Flatten(),\n",
        "            # Where did this in_features shape come from?\n",
        "            # It's because each layer of our network compresses and changes the shape of our inputs data.\n",
        "            nn.Linear(in_features=hidden_units*7*7,\n",
        "                      out_features=output_shape)\n",
        "        )\n",
        "\n",
        "    def forward(self, x: torch.Tensor):\n",
        "        x = self.block_1(x)\n",
        "        x = self.block_2(x)\n",
        "        x = self.block_3(x)\n",
        "        x = self.classifier(x)\n",
        "        return x\n",
        "\n",
        "# Let's set device to gpu\n",
        "\n",
        "devices = \"cuda\" if torch.cuda.is_available() else \"cpu\"\n",
        "\n",
        "model_2s = FashionMNIST(input_shape=1,\n",
        "    hidden_units=20,\n",
        "    output_shape=len(class_names)).to(devices)\n",
        "model_2s"
      ],
      "metadata": {
        "id": "78a8LjtdbSZj",
        "outputId": "4288107f-bb81-4735-b3ea-75ea3f991fdd",
        "colab": {
          "base_uri": "https://localhost:8080/"
        }
      },
      "execution_count": 60,
      "outputs": [
        {
          "output_type": "execute_result",
          "data": {
            "text/plain": [
              "FashionMNIST(\n",
              "  (block_1): Sequential(\n",
              "    (0): Conv2d(1, 20, kernel_size=(3, 3), stride=(1, 1), padding=(1, 1))\n",
              "    (1): ReLU()\n",
              "    (2): Conv2d(20, 20, kernel_size=(3, 3), stride=(1, 1), padding=(1, 1))\n",
              "    (3): ReLU()\n",
              "    (4): MaxPool2d(kernel_size=2, stride=2, padding=0, dilation=1, ceil_mode=False)\n",
              "  )\n",
              "  (block_2): Sequential(\n",
              "    (0): Conv2d(20, 20, kernel_size=(3, 3), stride=(1, 1), padding=(1, 1))\n",
              "    (1): ReLU()\n",
              "    (2): Conv2d(20, 20, kernel_size=(3, 3), stride=(1, 1), padding=(1, 1))\n",
              "    (3): Conv2d(20, 20, kernel_size=(3, 3), stride=(1, 1), padding=(1, 1))\n",
              "    (4): ReLU()\n",
              "    (5): MaxPool2d(kernel_size=2, stride=2, padding=0, dilation=1, ceil_mode=False)\n",
              "  )\n",
              "  (block_3): Sequential(\n",
              "    (0): Conv2d(20, 20, kernel_size=(3, 3), stride=(1, 1), padding=(1, 1))\n",
              "    (1): Conv2d(20, 20, kernel_size=(3, 3), stride=(1, 1), padding=(1, 1))\n",
              "    (2): ReLU()\n",
              "    (3): Conv2d(20, 20, kernel_size=(3, 3), stride=(1, 1), padding=(1, 1))\n",
              "    (4): Conv2d(20, 20, kernel_size=(3, 3), stride=(1, 1), padding=(1, 1))\n",
              "  )\n",
              "  (classifier): Sequential(\n",
              "    (0): Flatten(start_dim=1, end_dim=-1)\n",
              "    (1): Linear(in_features=980, out_features=10, bias=True)\n",
              "  )\n",
              ")"
            ]
          },
          "metadata": {},
          "execution_count": 60
        }
      ]
    },
    {
      "cell_type": "code",
      "source": [
        "torch.manual_seed(19)\n",
        "\n",
        "train_time_start_model_2 = timer()\n",
        "\n",
        "optimizers = torch.optim.RMSprop(params=model_2s.parameters(), lr=0.001)\n",
        "epochs = 15\n",
        "for epoch in tqdm(range(epochs)):\n",
        "    print(f\"Epoch: {epoch}\\n---------\")\n",
        "    training_loop(data_loader=train_dataloader,\n",
        "        model=model_2s,\n",
        "        loss_fn=loss_fn,\n",
        "        optimizer=optimizers,\n",
        "        accuracy_fn=accuracy_fn,\n",
        "        device=devices\n",
        "    )\n",
        "    testing_loop(data_loader=test_dataloader,\n",
        "        model=model_2s,\n",
        "        loss_fn=loss_fn,\n",
        "        accuracy_fn=accuracy_fn,\n",
        "        device=devices\n",
        "    )\n",
        "\n",
        "train_time_end_model_2 = timer()\n",
        "total_train_time_model_2 = print_train_time(start=train_time_start_model_2,\n",
        "                                           end=train_time_end_model_2,\n",
        "                                           device=devices)"
      ],
      "metadata": {
        "id": "VjP3HP4B0lXm",
        "outputId": "ad257ec8-9d6e-465b-ca89-a55820d7268e",
        "colab": {
          "base_uri": "https://localhost:8080/",
          "height": 1000,
          "referenced_widgets": [
            "e0e4ddc9a71c460bb97bc0be9635cfbe",
            "66bbc104089c4b16b45601ae749dde26",
            "1dd59d1c3dab449e93c291c22f261ce2",
            "d5702d38377c40bf8eede79282d4115a",
            "3b22c3eb7a0c47f1b29787f03f46b4ce",
            "4e30b15016104b3a824073bd835d692b",
            "ff03b3364f1240a2b64b0aaf20c3661d",
            "614d27e738d54e94a115225d9d07c3c1",
            "62473bf006064cfa951123dacf3c41d4",
            "3e46999ed55d42608ae70fdfceec86f0",
            "ca0cf703e3b74b9db058d6dff27aaa75"
          ]
        }
      },
      "execution_count": 63,
      "outputs": [
        {
          "output_type": "display_data",
          "data": {
            "text/plain": [
              "  0%|          | 0/15 [00:00<?, ?it/s]"
            ],
            "application/vnd.jupyter.widget-view+json": {
              "version_major": 2,
              "version_minor": 0,
              "model_id": "e0e4ddc9a71c460bb97bc0be9635cfbe"
            }
          },
          "metadata": {}
        },
        {
          "output_type": "stream",
          "name": "stdout",
          "text": [
            "Epoch: 0\n",
            "---------\n",
            "Train loss: 0.40715 | Train accuracy: 86.66%\n",
            "Test loss: 0.31897 | Test accuracy: 88.54%\n",
            "\n",
            "Epoch: 1\n",
            "---------\n",
            "Train loss: 0.29911 | Train accuracy: 89.32%\n",
            "Test loss: 0.30937 | Test accuracy: 88.45%\n",
            "\n",
            "Epoch: 2\n",
            "---------\n",
            "Train loss: 0.26352 | Train accuracy: 90.47%\n",
            "Test loss: 0.26935 | Test accuracy: 90.46%\n",
            "\n",
            "Epoch: 3\n",
            "---------\n",
            "Train loss: 0.24549 | Train accuracy: 91.13%\n",
            "Test loss: 0.26622 | Test accuracy: 90.44%\n",
            "\n",
            "Epoch: 4\n",
            "---------\n",
            "Train loss: 0.22891 | Train accuracy: 91.68%\n",
            "Test loss: 0.27023 | Test accuracy: 90.25%\n",
            "\n",
            "Epoch: 5\n",
            "---------\n",
            "Train loss: 0.21732 | Train accuracy: 92.13%\n",
            "Test loss: 0.25054 | Test accuracy: 90.95%\n",
            "\n",
            "Epoch: 6\n",
            "---------\n",
            "Train loss: 0.20809 | Train accuracy: 92.56%\n",
            "Test loss: 0.25978 | Test accuracy: 90.91%\n",
            "\n",
            "Epoch: 7\n",
            "---------\n",
            "Train loss: 0.20014 | Train accuracy: 92.71%\n",
            "Test loss: 0.25413 | Test accuracy: 90.93%\n",
            "\n",
            "Epoch: 8\n",
            "---------\n",
            "Train loss: 0.19181 | Train accuracy: 93.00%\n",
            "Test loss: 0.23171 | Test accuracy: 91.91%\n",
            "\n",
            "Epoch: 9\n",
            "---------\n",
            "Train loss: 0.18604 | Train accuracy: 93.13%\n",
            "Test loss: 0.25155 | Test accuracy: 90.91%\n",
            "\n",
            "Epoch: 10\n",
            "---------\n",
            "Train loss: 0.18059 | Train accuracy: 93.46%\n",
            "Test loss: 0.25624 | Test accuracy: 91.36%\n",
            "\n",
            "Epoch: 11\n",
            "---------\n",
            "Train loss: 0.17475 | Train accuracy: 93.64%\n",
            "Test loss: 0.24694 | Test accuracy: 91.40%\n",
            "\n",
            "Epoch: 12\n",
            "---------\n",
            "Train loss: 0.16909 | Train accuracy: 93.81%\n",
            "Test loss: 0.27365 | Test accuracy: 90.62%\n",
            "\n",
            "Epoch: 13\n",
            "---------\n",
            "Train loss: 0.16524 | Train accuracy: 93.92%\n",
            "Test loss: 0.27346 | Test accuracy: 91.54%\n",
            "\n",
            "Epoch: 14\n",
            "---------\n",
            "Train loss: 0.16296 | Train accuracy: 94.11%\n",
            "Test loss: 0.26413 | Test accuracy: 91.09%\n",
            "\n",
            "Train time on cuda: 225.813 seconds\n"
          ]
        }
      ]
    },
    {
      "cell_type": "code",
      "source": [
        "import random\n",
        "random.seed(42)\n",
        "test_samples = []\n",
        "test_labels = []\n",
        "\n",
        "def make_predictions(model: torch.nn.Module, data: list, device: torch.device = device):\n",
        "    pred_probs = []\n",
        "    model_2s.eval()\n",
        "    with torch.inference_mode():\n",
        "        for sample in data:\n",
        "            # Prepare sample\n",
        "            sample = torch.unsqueeze(sample, dim=0).to(devices)\n",
        "\n",
        "            # Forward pass\n",
        "            pred_logit = model_2s(sample)\n",
        "\n",
        "            # Get prediction probability\n",
        "            pred_prob = torch.softmax(pred_logit.squeeze(), dim=0)\n",
        "\n",
        "            # Get pred_prob off GPU for further calculations\n",
        "            pred_probs.append(pred_prob.cpu())\n",
        "\n",
        "    # Stack the pred_probs to turn list into a tensor\n",
        "    return torch.stack(pred_probs)\n",
        "\n",
        "\n",
        "for sample, label in random.sample(list(test_data), k=15):\n",
        "    test_samples.append(sample)\n",
        "    test_labels.append(label)\n",
        "\n",
        "# Make predictions on test samples with model 2\n",
        "pred_probs= make_predictions(model=model_2s,\n",
        "                             data=test_samples)\n",
        "\n",
        "\n",
        "# Turn the prediction probabilities into prediction labels by taking the argmax()\n",
        "pred_classes = pred_probs.argmax(dim=1)\n",
        "\n",
        "pred_classes, test_labels\n"
      ],
      "metadata": {
        "id": "AU7gwTN902nF",
        "outputId": "7f216679-898f-4a94-d0bc-e78d716edaad",
        "colab": {
          "base_uri": "https://localhost:8080/"
        }
      },
      "execution_count": 78,
      "outputs": [
        {
          "output_type": "execute_result",
          "data": {
            "text/plain": [
              "(tensor([5, 1, 7, 4, 3, 0, 4, 7, 1, 9, 7, 2, 0, 1, 0]),\n",
              " [5, 1, 7, 4, 3, 0, 4, 7, 1, 9, 7, 2, 0, 1, 0])"
            ]
          },
          "metadata": {},
          "execution_count": 78
        }
      ]
    },
    {
      "cell_type": "code",
      "source": [
        "# Plot predictions\n",
        "plt.figure(figsize=(9, 9))\n",
        "nrows = 5\n",
        "ncols = 3\n",
        "for i, sample in enumerate(test_samples):\n",
        "  # Create a subplot\n",
        "  plt.subplot(nrows, ncols, i+1)\n",
        "\n",
        "  # Plot the target image\n",
        "  plt.imshow(sample.squeeze(), cmap=\"gray\")\n",
        "\n",
        "  # Find the prediction label (in text form, e.g. \"Sandal\")\n",
        "  pred_label = class_names[pred_classes[i]]\n",
        "\n",
        "  # Get the truth label (in text form, e.g. \"T-shirt\")\n",
        "  truth_label = class_names[test_labels[i]]\n",
        "\n",
        "  # Create the title text of the plot\n",
        "  title_text = f\"Pred: {pred_label} | Truth: {truth_label}\"\n",
        "\n",
        "  # Check for equality and change title colour accordingly\n",
        "  if pred_label == truth_label:\n",
        "      plt.title(title_text, fontsize=10, c=\"g\") # green text if correct\n",
        "  else:\n",
        "      plt.title(title_text, fontsize=10, c=\"r\") # red text if wrong\n",
        "  plt.axis(False);"
      ],
      "metadata": {
        "id": "J15ySX3D8xkb",
        "outputId": "146b7781-7bc6-4da3-dd58-edc9848838b7",
        "colab": {
          "base_uri": "https://localhost:8080/",
          "height": 749
        }
      },
      "execution_count": 79,
      "outputs": [
        {
          "output_type": "display_data",
          "data": {
            "text/plain": [
              "<Figure size 900x900 with 15 Axes>"
            ],
            "image/png": "[encoded data removed]"
          },
          "metadata": {}
        }
      ]
    },
    {
      "cell_type": "code",
      "source": [
        "# Plot predictions\n",
        "plt.figure(figsize=(9, 9))\n",
        "nrows = 5\n",
        "ncols = 3\n",
        "for i, sample in enumerate(test_samples):\n",
        "  # Find the prediction label (in text form, e.g. \"Sandal\")\n",
        "  pred_label = class_names[pred_classes[i]]\n",
        "\n",
        "  # Get the truth label (in text form, e.g. \"T-shirt\")\n",
        "  truth_label = class_names[test_labels[i]]\n",
        "\n",
        "  if pred_label != truth_label:\n",
        "    # Create a subplot\n",
        "    plt.subplot(nrows, ncols, i+1)\n",
        "\n",
        "    # Plot the target image\n",
        "    plt.imshow(sample.squeeze(), cmap=\"gray\")\n",
        "\n",
        "\n",
        "    # Create the title text of the plot\n",
        "    title_text = f\"Pred: {pred_label} | Truth: {truth_label}\"\n",
        "\n",
        "\n",
        "    plt.title(title_text, fontsize=10, c=\"r\") # red text if wrong\n",
        "  plt.axis(False);"
      ],
      "metadata": {
        "id": "tEuHI1idEQJm",
        "outputId": "137d3049-e9d7-42c4-c689-ffab220fb33f",
        "colab": {
          "base_uri": "https://localhost:8080/",
          "height": 730
        }
      },
      "execution_count": 80,
      "outputs": [
        {
          "output_type": "display_data",
          "data": {
            "text/plain": [
              "<Figure size 900x900 with 1 Axes>"
            ],
            "image/png": "[encoded data removed]"
          },
          "metadata": {}
        }
      ]
    },
    {
      "cell_type": "markdown",
      "source": [
        "Even though the model is not 100% correct (though approximately), we can see that it perform quite well and luckily none of the 15 sampled images is incorrectly predicted. Furthermore through adding complexity to the model by adding more convolutions and changing the optimizer, we see that the model outperformed all the previous model built."
      ],
      "metadata": {
        "id": "X9XDlDqmGpAU"
      }
    },
    {
      "cell_type": "code",
      "source": [],
      "metadata": {
        "id": "eUtfcoCHDaeZ"
      },
      "execution_count": null,
      "outputs": []
    }
  ]
}